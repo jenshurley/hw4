{
 "cells": [
  {
   "cell_type": "code",
   "execution_count": null,
   "metadata": {},
   "outputs": [],
   "source": [
    "## Summary \n",
    "Three observable trends\n",
    "agen"
   ]
  },
  {
   "cell_type": "code",
   "execution_count": null,
   "metadata": {},
   "outputs": [],
   "source": [
    "import pandas as pd\n",
    "import matplotlib.pyplot as plt\n",
    "%matplotlib inline"
   ]
  },
  {
   "cell_type": "code",
   "execution_count": 3,
   "metadata": {},
   "outputs": [],
   "source": [
    "df = pd.read_json('purchase_data.json')"
   ]
  },
  {
   "cell_type": "markdown",
   "metadata": {},
   "source": [
    "### Total Number of Players and Player Count"
   ]
  },
  {
   "cell_type": "code",
   "execution_count": 97,
   "metadata": {},
   "outputs": [
    {
     "data": {
      "text/plain": [
       "573"
      ]
     },
     "execution_count": 97,
     "metadata": {},
     "output_type": "execute_result"
    }
   ],
   "source": [
    "df.SN.nunique()"
   ]
  },
  {
   "cell_type": "markdown",
   "metadata": {},
   "source": [
    "## Purchasing Analysis\n",
    "#### Number of Unique Items"
   ]
  },
  {
   "cell_type": "code",
   "execution_count": 98,
   "metadata": {},
   "outputs": [
    {
     "data": {
      "text/plain": [
       "183"
      ]
     },
     "execution_count": 98,
     "metadata": {},
     "output_type": "execute_result"
    }
   ],
   "source": [
    "df['Item ID'].nunique()"
   ]
  },
  {
   "cell_type": "markdown",
   "metadata": {},
   "source": [
    "#### Average Purchase Price"
   ]
  },
  {
   "cell_type": "code",
   "execution_count": 102,
   "metadata": {},
   "outputs": [
    {
     "data": {
      "text/plain": [
       "'$2.93'"
      ]
     },
     "execution_count": 102,
     "metadata": {},
     "output_type": "execute_result"
    }
   ],
   "source": [
    "'${:.2f}'.format(df.Price.mean())"
   ]
  },
  {
   "cell_type": "markdown",
   "metadata": {},
   "source": [
    "#### Total Number of Purchases"
   ]
  },
  {
   "cell_type": "code",
   "execution_count": 100,
   "metadata": {},
   "outputs": [
    {
     "data": {
      "text/plain": [
       "780"
      ]
     },
     "execution_count": 100,
     "metadata": {},
     "output_type": "execute_result"
    }
   ],
   "source": [
    "df.shape[0]"
   ]
  },
  {
   "cell_type": "markdown",
   "metadata": {},
   "source": [
    "#### Total Revenue"
   ]
  },
  {
   "cell_type": "code",
   "execution_count": 99,
   "metadata": {},
   "outputs": [
    {
     "data": {
      "text/plain": [
       "2286.33"
      ]
     },
     "execution_count": 99,
     "metadata": {},
     "output_type": "execute_result"
    }
   ],
   "source": [
    "df.Price.sum()"
   ]
  },
  {
   "cell_type": "markdown",
   "metadata": {},
   "source": [
    "## Gender Purchasing Analysis"
   ]
  },
  {
   "cell_type": "markdown",
   "metadata": {},
   "source": [
    "#### Count of players by gender"
   ]
  },
  {
   "cell_type": "code",
   "execution_count": 4,
   "metadata": {},
   "outputs": [
    {
     "data": {
      "text/plain": [
       "Male                     465\n",
       "Female                   100\n",
       "Other / Non-Disclosed      8\n",
       "Name: Gender, dtype: int64"
      ]
     },
     "execution_count": 4,
     "metadata": {},
     "output_type": "execute_result"
    }
   ],
   "source": [
    "df.groupby(['SN', 'Gender']).count().reset_index()['Gender'].value_counts()"
   ]
  },
  {
   "cell_type": "markdown",
   "metadata": {},
   "source": [
    "#### Percentage of players by gender"
   ]
  },
  {
   "cell_type": "code",
   "execution_count": 6,
   "metadata": {},
   "outputs": [
    {
     "data": {
      "image/png": "[encoded data removed]",
      "text/plain": [
       "<matplotlib.figure.Figure at 0x106a52d30>"
      ]
     },
     "metadata": {},
     "output_type": "display_data"
    }
   ],
   "source": [
    "ax2 = df.groupby(['SN', 'Gender']).count().reset_index()['Gender'].value_counts().plot(kind='bar', figsize=(10,7),\n",
    "                                                  color=\"indigo\", fontsize=13);\n",
    "ax2.set_alpha(0.8)\n",
    "ax2.set_ylabel(\"Gender Count\", fontsize=18);\n",
    "ax2.set_yticks([i for i in range(0,500,100)])\n",
    "\n",
    "# create a list to collect the plt.patches data\n",
    "totals = []\n",
    "\n",
    "# find the values and append to list\n",
    "for i in ax2.patches:\n",
    "    totals.append(i.get_height())\n",
    "\n",
    "# set individual bar lables using above list\n",
    "total = sum(totals)\n",
    "\n",
    "# set individual bar lables using above list\n",
    "for i in ax2.patches:\n",
    "    # get_x pulls left or right; get_height pushes up or down\n",
    "    ax2.text(i.get_x()+.12, i.get_height(), \\\n",
    "            str(round((i.get_height()/total)*100, 2))+'%', fontsize=22,\n",
    "                color='black')"
   ]
  },
  {
   "cell_type": "markdown",
   "metadata": {},
   "source": [
    "**FEMALE**"
   ]
  },
  {
   "cell_type": "code",
   "execution_count": 12,
   "metadata": {},
   "outputs": [
    {
     "data": {
      "text/html": [
       "<div>\n",
       "<style scoped>\n",
       "    .dataframe tbody tr th:only-of-type {\n",
       "        vertical-align: middle;\n",
       "    }\n",
       "\n",
       "    .dataframe tbody tr th {\n",
       "        vertical-align: top;\n",
       "    }\n",
       "\n",
       "    .dataframe thead th {\n",
       "        text-align: right;\n",
       "    }\n",
       "</style>\n",
       "<table border=\"1\" class=\"dataframe\">\n",
       "  <thead>\n",
       "    <tr style=\"text-align: right;\">\n",
       "      <th></th>\n",
       "      <th>Age</th>\n",
       "      <th>Gender</th>\n",
       "      <th>Item ID</th>\n",
       "      <th>Item Name</th>\n",
       "      <th>Price</th>\n",
       "      <th>SN</th>\n",
       "    </tr>\n",
       "  </thead>\n",
       "  <tbody>\n",
       "    <tr>\n",
       "      <th>7</th>\n",
       "      <td>29</td>\n",
       "      <td>Female</td>\n",
       "      <td>169</td>\n",
       "      <td>Interrogator, Blood Blade of the Queen</td>\n",
       "      <td>3.32</td>\n",
       "      <td>Iathenudil29</td>\n",
       "    </tr>\n",
       "    <tr>\n",
       "      <th>16</th>\n",
       "      <td>22</td>\n",
       "      <td>Female</td>\n",
       "      <td>123</td>\n",
       "      <td>Twilight's Carver</td>\n",
       "      <td>1.14</td>\n",
       "      <td>Sundista85</td>\n",
       "    </tr>\n",
       "    <tr>\n",
       "      <th>17</th>\n",
       "      <td>22</td>\n",
       "      <td>Female</td>\n",
       "      <td>59</td>\n",
       "      <td>Lightning, Etcher of the King</td>\n",
       "      <td>1.65</td>\n",
       "      <td>Aenarap34</td>\n",
       "    </tr>\n",
       "    <tr>\n",
       "      <th>22</th>\n",
       "      <td>11</td>\n",
       "      <td>Female</td>\n",
       "      <td>11</td>\n",
       "      <td>Brimstone</td>\n",
       "      <td>2.52</td>\n",
       "      <td>Deural48</td>\n",
       "    </tr>\n",
       "    <tr>\n",
       "      <th>29</th>\n",
       "      <td>16</td>\n",
       "      <td>Female</td>\n",
       "      <td>45</td>\n",
       "      <td>Glinting Glass Edge</td>\n",
       "      <td>2.46</td>\n",
       "      <td>Phaedai25</td>\n",
       "    </tr>\n",
       "  </tbody>\n",
       "</table>\n",
       "</div>"
      ],
      "text/plain": [
       "    Age  Gender  Item ID                               Item Name  Price  \\\n",
       "7    29  Female      169  Interrogator, Blood Blade of the Queen   3.32   \n",
       "16   22  Female      123                       Twilight's Carver   1.14   \n",
       "17   22  Female       59           Lightning, Etcher of the King   1.65   \n",
       "22   11  Female       11                               Brimstone   2.52   \n",
       "29   16  Female       45                     Glinting Glass Edge   2.46   \n",
       "\n",
       "              SN  \n",
       "7   Iathenudil29  \n",
       "16    Sundista85  \n",
       "17     Aenarap34  \n",
       "22      Deural48  \n",
       "29     Phaedai25  "
      ]
     },
     "execution_count": 12,
     "metadata": {},
     "output_type": "execute_result"
    }
   ],
   "source": [
    "df_female = df.loc[df['Gender'] == 'Female']\n",
    "df_female.head()"
   ]
  },
  {
   "cell_type": "markdown",
   "metadata": {},
   "source": [
    "**Purchase Count**"
   ]
  },
  {
   "cell_type": "code",
   "execution_count": 31,
   "metadata": {},
   "outputs": [
    {
     "data": {
      "text/plain": [
       "136"
      ]
     },
     "execution_count": 31,
     "metadata": {},
     "output_type": "execute_result"
    }
   ],
   "source": [
    "df_female.shape[0]"
   ]
  },
  {
   "cell_type": "markdown",
   "metadata": {},
   "source": [
    "**Total Purchase Value**"
   ]
  },
  {
   "cell_type": "code",
   "execution_count": 14,
   "metadata": {},
   "outputs": [
    {
     "data": {
      "text/plain": [
       "382.90999999999997"
      ]
     },
     "execution_count": 14,
     "metadata": {},
     "output_type": "execute_result"
    }
   ],
   "source": [
    "total = df_female['Price'].sum()\n",
    "#'${:.2f}'.format()\n",
    "total"
   ]
  },
  {
   "cell_type": "markdown",
   "metadata": {},
   "source": [
    "**Normalized Purchase Value**"
   ]
  },
  {
   "cell_type": "code",
   "execution_count": 16,
   "metadata": {},
   "outputs": [
    {
     "data": {
      "text/plain": [
       "3.8290999999999995"
      ]
     },
     "execution_count": 16,
     "metadata": {},
     "output_type": "execute_result"
    }
   ],
   "source": [
    "normalized_total = total/df_female['SN'].nunique()\n",
    "normalized_total"
   ]
  },
  {
   "cell_type": "markdown",
   "metadata": {},
   "source": [
    "**Average Purchase Price**"
   ]
  },
  {
   "cell_type": "code",
   "execution_count": 27,
   "metadata": {},
   "outputs": [
    {
     "data": {
      "text/plain": [
       "2.815514705882352"
      ]
     },
     "execution_count": 27,
     "metadata": {},
     "output_type": "execute_result"
    }
   ],
   "source": [
    "df_female[\"Price\"].mean()"
   ]
  },
  {
   "cell_type": "markdown",
   "metadata": {},
   "source": [
    "**MALE**"
   ]
  },
  {
   "cell_type": "code",
   "execution_count": 17,
   "metadata": {},
   "outputs": [
    {
     "data": {
      "text/html": [
       "<div>\n",
       "<style scoped>\n",
       "    .dataframe tbody tr th:only-of-type {\n",
       "        vertical-align: middle;\n",
       "    }\n",
       "\n",
       "    .dataframe tbody tr th {\n",
       "        vertical-align: top;\n",
       "    }\n",
       "\n",
       "    .dataframe thead th {\n",
       "        text-align: right;\n",
       "    }\n",
       "</style>\n",
       "<table border=\"1\" class=\"dataframe\">\n",
       "  <thead>\n",
       "    <tr style=\"text-align: right;\">\n",
       "      <th></th>\n",
       "      <th>Age</th>\n",
       "      <th>Gender</th>\n",
       "      <th>Item ID</th>\n",
       "      <th>Item Name</th>\n",
       "      <th>Price</th>\n",
       "      <th>SN</th>\n",
       "    </tr>\n",
       "  </thead>\n",
       "  <tbody>\n",
       "    <tr>\n",
       "      <th>0</th>\n",
       "      <td>38</td>\n",
       "      <td>Male</td>\n",
       "      <td>165</td>\n",
       "      <td>Bone Crushing Silver Skewer</td>\n",
       "      <td>3.37</td>\n",
       "      <td>Aelalis34</td>\n",
       "    </tr>\n",
       "    <tr>\n",
       "      <th>1</th>\n",
       "      <td>21</td>\n",
       "      <td>Male</td>\n",
       "      <td>119</td>\n",
       "      <td>Stormbringer, Dark Blade of Ending Misery</td>\n",
       "      <td>2.32</td>\n",
       "      <td>Eolo46</td>\n",
       "    </tr>\n",
       "    <tr>\n",
       "      <th>2</th>\n",
       "      <td>34</td>\n",
       "      <td>Male</td>\n",
       "      <td>174</td>\n",
       "      <td>Primitive Blade</td>\n",
       "      <td>2.46</td>\n",
       "      <td>Assastnya25</td>\n",
       "    </tr>\n",
       "    <tr>\n",
       "      <th>3</th>\n",
       "      <td>21</td>\n",
       "      <td>Male</td>\n",
       "      <td>92</td>\n",
       "      <td>Final Critic</td>\n",
       "      <td>1.36</td>\n",
       "      <td>Pheusrical25</td>\n",
       "    </tr>\n",
       "    <tr>\n",
       "      <th>4</th>\n",
       "      <td>23</td>\n",
       "      <td>Male</td>\n",
       "      <td>63</td>\n",
       "      <td>Stormfury Mace</td>\n",
       "      <td>1.27</td>\n",
       "      <td>Aela59</td>\n",
       "    </tr>\n",
       "  </tbody>\n",
       "</table>\n",
       "</div>"
      ],
      "text/plain": [
       "   Age Gender  Item ID                                  Item Name  Price  \\\n",
       "0   38   Male      165                Bone Crushing Silver Skewer   3.37   \n",
       "1   21   Male      119  Stormbringer, Dark Blade of Ending Misery   2.32   \n",
       "2   34   Male      174                            Primitive Blade   2.46   \n",
       "3   21   Male       92                               Final Critic   1.36   \n",
       "4   23   Male       63                             Stormfury Mace   1.27   \n",
       "\n",
       "             SN  \n",
       "0     Aelalis34  \n",
       "1        Eolo46  \n",
       "2   Assastnya25  \n",
       "3  Pheusrical25  \n",
       "4        Aela59  "
      ]
     },
     "execution_count": 17,
     "metadata": {},
     "output_type": "execute_result"
    }
   ],
   "source": [
    "df_male = df.loc[df['Gender'] == 'Male']\n",
    "df_male.head()"
   ]
  },
  {
   "cell_type": "code",
   "execution_count": 105,
   "metadata": {},
   "outputs": [
    {
     "data": {
      "text/plain": [
       "633"
      ]
     },
     "execution_count": 105,
     "metadata": {},
     "output_type": "execute_result"
    }
   ],
   "source": [
    "df_male.shape[0]"
   ]
  },
  {
   "cell_type": "code",
   "execution_count": 20,
   "metadata": {},
   "outputs": [
    {
     "data": {
      "text/plain": [
       "1867.68"
      ]
     },
     "execution_count": 20,
     "metadata": {},
     "output_type": "execute_result"
    }
   ],
   "source": [
    "total_m = df_male['Price'].sum()\n",
    "total_m"
   ]
  },
  {
   "cell_type": "code",
   "execution_count": 21,
   "metadata": {},
   "outputs": [
    {
     "data": {
      "text/plain": [
       "4.016516129032258"
      ]
     },
     "execution_count": 21,
     "metadata": {},
     "output_type": "execute_result"
    }
   ],
   "source": [
    "normalized_total_m = total_m/df_male['SN'].nunique()\n",
    "normalized_total_m"
   ]
  },
  {
   "cell_type": "markdown",
   "metadata": {},
   "source": [
    "## Age Demographics1"
   ]
  },
  {
   "cell_type": "code",
   "execution_count": null,
   "metadata": {},
   "outputs": [],
   "source": []
  },
  {
   "cell_type": "code",
   "execution_count": null,
   "metadata": {},
   "outputs": [],
   "source": []
  },
  {
   "cell_type": "code",
   "execution_count": null,
   "metadata": {},
   "outputs": [],
   "source": []
  },
  {
   "cell_type": "markdown",
   "metadata": {},
   "source": [
    "## Top Spenders"
   ]
  },
  {
   "cell_type": "code",
   "execution_count": 7,
   "metadata": {},
   "outputs": [
    {
     "data": {
      "image/png": "[encoded data removed]",
      "text/plain": [
       "<matplotlib.figure.Figure at 0x1069d9b00>"
      ]
     },
     "metadata": {},
     "output_type": "display_data"
    }
   ],
   "source": [
    "df['SN'].value_counts().head(15).plot.bar();"
   ]
  },
  {
   "cell_type": "markdown",
   "metadata": {},
   "source": [
    "**Since the value count is the same for the 2nd[1] item and the 6th[5] spenders, I included all of those spenders.**"
   ]
  },
  {
   "cell_type": "code",
   "execution_count": 44,
   "metadata": {},
   "outputs": [],
   "source": [
    "top_spenders = list(df['SN'].value_counts()[:6].to_dict().keys())"
   ]
  },
  {
   "cell_type": "code",
   "execution_count": 52,
   "metadata": {},
   "outputs": [],
   "source": [
    "mask_spend = df['SN'].isin(top_spenders)"
   ]
  },
  {
   "cell_type": "code",
   "execution_count": 46,
   "metadata": {},
   "outputs": [],
   "source": [
    "top_spenders_df = df[mask_spend]"
   ]
  },
  {
   "cell_type": "code",
   "execution_count": 49,
   "metadata": {},
   "outputs": [],
   "source": [
    "top_spender_purchase_analysis = top_spenders_df.groupby('SN').Price.agg(['count', 'mean', 'sum'])"
   ]
  },
  {
   "cell_type": "code",
   "execution_count": 50,
   "metadata": {},
   "outputs": [
    {
     "data": {
      "text/html": [
       "<div>\n",
       "<style scoped>\n",
       "    .dataframe tbody tr th:only-of-type {\n",
       "        vertical-align: middle;\n",
       "    }\n",
       "\n",
       "    .dataframe tbody tr th {\n",
       "        vertical-align: top;\n",
       "    }\n",
       "\n",
       "    .dataframe thead th {\n",
       "        text-align: right;\n",
       "    }\n",
       "</style>\n",
       "<table border=\"1\" class=\"dataframe\">\n",
       "  <thead>\n",
       "    <tr style=\"text-align: right;\">\n",
       "      <th></th>\n",
       "      <th>Purchase Count</th>\n",
       "      <th>Ave Purchase Price</th>\n",
       "      <th>Total Purchase Value</th>\n",
       "    </tr>\n",
       "    <tr>\n",
       "      <th>SN</th>\n",
       "      <th></th>\n",
       "      <th></th>\n",
       "      <th></th>\n",
       "    </tr>\n",
       "  </thead>\n",
       "  <tbody>\n",
       "    <tr>\n",
       "      <th>Hailaphos89</th>\n",
       "      <td>4</td>\n",
       "      <td>1.4675</td>\n",
       "      <td>5.87</td>\n",
       "    </tr>\n",
       "    <tr>\n",
       "      <th>Mindimnya67</th>\n",
       "      <td>4</td>\n",
       "      <td>3.1850</td>\n",
       "      <td>12.74</td>\n",
       "    </tr>\n",
       "    <tr>\n",
       "      <th>Qarwen67</th>\n",
       "      <td>4</td>\n",
       "      <td>2.4925</td>\n",
       "      <td>9.97</td>\n",
       "    </tr>\n",
       "    <tr>\n",
       "      <th>Saedue76</th>\n",
       "      <td>4</td>\n",
       "      <td>3.3900</td>\n",
       "      <td>13.56</td>\n",
       "    </tr>\n",
       "    <tr>\n",
       "      <th>Sondastan54</th>\n",
       "      <td>4</td>\n",
       "      <td>2.5600</td>\n",
       "      <td>10.24</td>\n",
       "    </tr>\n",
       "    <tr>\n",
       "      <th>Undirrala66</th>\n",
       "      <td>5</td>\n",
       "      <td>3.4120</td>\n",
       "      <td>17.06</td>\n",
       "    </tr>\n",
       "  </tbody>\n",
       "</table>\n",
       "</div>"
      ],
      "text/plain": [
       "             Purchase Count  Ave Purchase Price  Total Purchase Value\n",
       "SN                                                                   \n",
       "Hailaphos89               4              1.4675                  5.87\n",
       "Mindimnya67               4              3.1850                 12.74\n",
       "Qarwen67                  4              2.4925                  9.97\n",
       "Saedue76                  4              3.3900                 13.56\n",
       "Sondastan54               4              2.5600                 10.24\n",
       "Undirrala66               5              3.4120                 17.06"
      ]
     },
     "execution_count": 50,
     "metadata": {},
     "output_type": "execute_result"
    }
   ],
   "source": [
    "top_spender_purchase_analysis = top_spender_purchase_analysis.rename(columns={\\\n",
    "            'count': 'Purchase Count', 'mean': 'Ave Purchase Price','sum': 'Total Purchase Value'})\n",
    "top_spender_purchase_analysis"
   ]
  },
  {
   "cell_type": "markdown",
   "metadata": {},
   "source": [
    "## Most Popular Items"
   ]
  },
  {
   "cell_type": "code",
   "execution_count": 33,
   "metadata": {},
   "outputs": [
    {
     "data": {
      "image/png": "[encoded data removed]",
      "text/plain": [
       "<matplotlib.figure.Figure at 0x10a3bae10>"
      ]
     },
     "metadata": {},
     "output_type": "display_data"
    }
   ],
   "source": [
    "df['Item Name'].value_counts().head(15).plot.bar();"
   ]
  },
  {
   "cell_type": "markdown",
   "metadata": {},
   "source": [
    "**Since the value count is the same for the 5th item and the 8th items, I included those in top items.**"
   ]
  },
  {
   "cell_type": "code",
   "execution_count": 34,
   "metadata": {},
   "outputs": [],
   "source": [
    "top_items = list(df['Item Name'].value_counts()[:8].to_dict().keys())\n"
   ]
  },
  {
   "cell_type": "code",
   "execution_count": 35,
   "metadata": {},
   "outputs": [
    {
     "data": {
      "text/plain": [
       "['Final Critic',\n",
       " 'Betrayal, Whisper of Grieving Widows',\n",
       " 'Arcane Gem',\n",
       " 'Stormcaller',\n",
       " 'Trickster',\n",
       " 'Serenity',\n",
       " 'Woeful Adamantite Claymore',\n",
       " 'Retribution Axe']"
      ]
     },
     "execution_count": 35,
     "metadata": {},
     "output_type": "execute_result"
    }
   ],
   "source": [
    "top_items"
   ]
  },
  {
   "cell_type": "code",
   "execution_count": 36,
   "metadata": {},
   "outputs": [],
   "source": [
    "mask = df['Item Name'].isin(top_items)"
   ]
  },
  {
   "cell_type": "code",
   "execution_count": 37,
   "metadata": {},
   "outputs": [],
   "source": [
    "top_items_df = df[mask]"
   ]
  },
  {
   "cell_type": "code",
   "execution_count": 38,
   "metadata": {},
   "outputs": [
    {
     "data": {
      "text/html": [
       "<div>\n",
       "<style scoped>\n",
       "    .dataframe tbody tr th:only-of-type {\n",
       "        vertical-align: middle;\n",
       "    }\n",
       "\n",
       "    .dataframe tbody tr th {\n",
       "        vertical-align: top;\n",
       "    }\n",
       "\n",
       "    .dataframe thead th {\n",
       "        text-align: right;\n",
       "    }\n",
       "</style>\n",
       "<table border=\"1\" class=\"dataframe\">\n",
       "  <thead>\n",
       "    <tr style=\"text-align: right;\">\n",
       "      <th></th>\n",
       "      <th>Age</th>\n",
       "      <th>Gender</th>\n",
       "      <th>Item ID</th>\n",
       "      <th>Item Name</th>\n",
       "      <th>Price</th>\n",
       "      <th>SN</th>\n",
       "    </tr>\n",
       "  </thead>\n",
       "  <tbody>\n",
       "    <tr>\n",
       "      <th>171</th>\n",
       "      <td>21</td>\n",
       "      <td>Male</td>\n",
       "      <td>84</td>\n",
       "      <td>Arcane Gem</td>\n",
       "      <td>2.23</td>\n",
       "      <td>Stryanastip77</td>\n",
       "    </tr>\n",
       "    <tr>\n",
       "      <th>742</th>\n",
       "      <td>26</td>\n",
       "      <td>Male</td>\n",
       "      <td>84</td>\n",
       "      <td>Arcane Gem</td>\n",
       "      <td>2.23</td>\n",
       "      <td>Inguron55</td>\n",
       "    </tr>\n",
       "    <tr>\n",
       "      <th>354</th>\n",
       "      <td>20</td>\n",
       "      <td>Male</td>\n",
       "      <td>84</td>\n",
       "      <td>Arcane Gem</td>\n",
       "      <td>2.23</td>\n",
       "      <td>Mindirra92</td>\n",
       "    </tr>\n",
       "    <tr>\n",
       "      <th>338</th>\n",
       "      <td>17</td>\n",
       "      <td>Male</td>\n",
       "      <td>84</td>\n",
       "      <td>Arcane Gem</td>\n",
       "      <td>2.23</td>\n",
       "      <td>Lisossanya98</td>\n",
       "    </tr>\n",
       "    <tr>\n",
       "      <th>416</th>\n",
       "      <td>25</td>\n",
       "      <td>Male</td>\n",
       "      <td>84</td>\n",
       "      <td>Arcane Gem</td>\n",
       "      <td>2.23</td>\n",
       "      <td>Hiarideu73</td>\n",
       "    </tr>\n",
       "  </tbody>\n",
       "</table>\n",
       "</div>"
      ],
      "text/plain": [
       "     Age Gender  Item ID   Item Name  Price             SN\n",
       "171   21   Male       84  Arcane Gem   2.23  Stryanastip77\n",
       "742   26   Male       84  Arcane Gem   2.23      Inguron55\n",
       "354   20   Male       84  Arcane Gem   2.23     Mindirra92\n",
       "338   17   Male       84  Arcane Gem   2.23   Lisossanya98\n",
       "416   25   Male       84  Arcane Gem   2.23     Hiarideu73"
      ]
     },
     "execution_count": 38,
     "metadata": {},
     "output_type": "execute_result"
    }
   ],
   "source": [
    "top_items_df.sort_values(['Item Name']).head()\n",
    "#TODO should item name be index? how to display top item at the top? "
   ]
  },
  {
   "cell_type": "markdown",
   "metadata": {},
   "source": [
    "list in a table \n",
    "-Purchase Count\n",
    "-Average Purchase Price\n",
    "-Total Purchase Value"
   ]
  },
  {
   "cell_type": "code",
   "execution_count": 64,
   "metadata": {},
   "outputs": [],
   "source": [
    "item_purchase_analysis = top_items_df.groupby('Item Name').Price.agg(['count', 'mean', 'sum']).sort_values\\\n",
    "    (by='count', ascending=False)"
   ]
  },
  {
   "cell_type": "code",
   "execution_count": 65,
   "metadata": {},
   "outputs": [
    {
     "data": {
      "text/html": [
       "<div>\n",
       "<style scoped>\n",
       "    .dataframe tbody tr th:only-of-type {\n",
       "        vertical-align: middle;\n",
       "    }\n",
       "\n",
       "    .dataframe tbody tr th {\n",
       "        vertical-align: top;\n",
       "    }\n",
       "\n",
       "    .dataframe thead th {\n",
       "        text-align: right;\n",
       "    }\n",
       "</style>\n",
       "<table border=\"1\" class=\"dataframe\">\n",
       "  <thead>\n",
       "    <tr style=\"text-align: right;\">\n",
       "      <th></th>\n",
       "      <th>Purchase Count</th>\n",
       "      <th>Ave Purchase Price</th>\n",
       "      <th>Total Purchase Value</th>\n",
       "    </tr>\n",
       "    <tr>\n",
       "      <th>Item Name</th>\n",
       "      <th></th>\n",
       "      <th></th>\n",
       "      <th></th>\n",
       "    </tr>\n",
       "  </thead>\n",
       "  <tbody>\n",
       "    <tr>\n",
       "      <th>Final Critic</th>\n",
       "      <td>14</td>\n",
       "      <td>2.757143</td>\n",
       "      <td>38.60</td>\n",
       "    </tr>\n",
       "    <tr>\n",
       "      <th>Arcane Gem</th>\n",
       "      <td>11</td>\n",
       "      <td>2.230000</td>\n",
       "      <td>24.53</td>\n",
       "    </tr>\n",
       "    <tr>\n",
       "      <th>Betrayal, Whisper of Grieving Widows</th>\n",
       "      <td>11</td>\n",
       "      <td>2.350000</td>\n",
       "      <td>25.85</td>\n",
       "    </tr>\n",
       "    <tr>\n",
       "      <th>Stormcaller</th>\n",
       "      <td>10</td>\n",
       "      <td>3.465000</td>\n",
       "      <td>34.65</td>\n",
       "    </tr>\n",
       "    <tr>\n",
       "      <th>Retribution Axe</th>\n",
       "      <td>9</td>\n",
       "      <td>4.140000</td>\n",
       "      <td>37.26</td>\n",
       "    </tr>\n",
       "    <tr>\n",
       "      <th>Serenity</th>\n",
       "      <td>9</td>\n",
       "      <td>1.490000</td>\n",
       "      <td>13.41</td>\n",
       "    </tr>\n",
       "    <tr>\n",
       "      <th>Trickster</th>\n",
       "      <td>9</td>\n",
       "      <td>2.070000</td>\n",
       "      <td>18.63</td>\n",
       "    </tr>\n",
       "    <tr>\n",
       "      <th>Woeful Adamantite Claymore</th>\n",
       "      <td>9</td>\n",
       "      <td>1.240000</td>\n",
       "      <td>11.16</td>\n",
       "    </tr>\n",
       "  </tbody>\n",
       "</table>\n",
       "</div>"
      ],
      "text/plain": [
       "                                      Purchase Count  Ave Purchase Price  \\\n",
       "Item Name                                                                  \n",
       "Final Critic                                      14            2.757143   \n",
       "Arcane Gem                                        11            2.230000   \n",
       "Betrayal, Whisper of Grieving Widows              11            2.350000   \n",
       "Stormcaller                                       10            3.465000   \n",
       "Retribution Axe                                    9            4.140000   \n",
       "Serenity                                           9            1.490000   \n",
       "Trickster                                          9            2.070000   \n",
       "Woeful Adamantite Claymore                         9            1.240000   \n",
       "\n",
       "                                      Total Purchase Value  \n",
       "Item Name                                                   \n",
       "Final Critic                                         38.60  \n",
       "Arcane Gem                                           24.53  \n",
       "Betrayal, Whisper of Grieving Widows                 25.85  \n",
       "Stormcaller                                          34.65  \n",
       "Retribution Axe                                      37.26  \n",
       "Serenity                                             13.41  \n",
       "Trickster                                            18.63  \n",
       "Woeful Adamantite Claymore                           11.16  "
      ]
     },
     "execution_count": 65,
     "metadata": {},
     "output_type": "execute_result"
    }
   ],
   "source": [
    "item_purchase_analysis = item_purchase_analysis.rename(columns={\\\n",
    "            'count': 'Purchase Count', 'mean': 'Ave Purchase Price','sum': 'Total Purchase Value'})\n",
    "item_purchase_analysis\n",
    "#sort by purchase count"
   ]
  },
  {
   "cell_type": "markdown",
   "metadata": {},
   "source": [
    "## Most Profitable Items"
   ]
  },
  {
   "cell_type": "code",
   "execution_count": 53,
   "metadata": {},
   "outputs": [],
   "source": [
    "#Identify the 5 most profitable items by total purchase value, then list (in a table): Item ID, Item Name, \n",
    "#Purchase Count, Item Price, Total Purchase Value"
   ]
  },
  {
   "cell_type": "code",
   "execution_count": 93,
   "metadata": {},
   "outputs": [],
   "source": [
    "most_profitable = df.groupby(['Item Name', 'Item ID', 'Price'])['Price'].agg(['sum', 'count']).\\\n",
    "  sort_values(by='sum', ascending=False).nlargest(5, 'sum')\n",
    "  #could also put 'count' in where 'sum' is"
   ]
  },
  {
   "cell_type": "code",
   "execution_count": 96,
   "metadata": {},
   "outputs": [
    {
     "data": {
      "text/html": [
       "<div>\n",
       "<style scoped>\n",
       "    .dataframe tbody tr th:only-of-type {\n",
       "        vertical-align: middle;\n",
       "    }\n",
       "\n",
       "    .dataframe tbody tr th {\n",
       "        vertical-align: top;\n",
       "    }\n",
       "\n",
       "    .dataframe thead th {\n",
       "        text-align: right;\n",
       "    }\n",
       "</style>\n",
       "<table border=\"1\" class=\"dataframe\">\n",
       "  <thead>\n",
       "    <tr style=\"text-align: right;\">\n",
       "      <th></th>\n",
       "      <th></th>\n",
       "      <th></th>\n",
       "      <th>Total Purchase Value</th>\n",
       "      <th>Purchase Count</th>\n",
       "    </tr>\n",
       "    <tr>\n",
       "      <th>Item Name</th>\n",
       "      <th>Item ID</th>\n",
       "      <th>Price</th>\n",
       "      <th></th>\n",
       "      <th></th>\n",
       "    </tr>\n",
       "  </thead>\n",
       "  <tbody>\n",
       "    <tr>\n",
       "      <th>Retribution Axe</th>\n",
       "      <th>34</th>\n",
       "      <th>4.14</th>\n",
       "      <td>37.26</td>\n",
       "      <td>9</td>\n",
       "    </tr>\n",
       "    <tr>\n",
       "      <th>Spectral Diamond Doomblade</th>\n",
       "      <th>115</th>\n",
       "      <th>4.25</th>\n",
       "      <td>29.75</td>\n",
       "      <td>7</td>\n",
       "    </tr>\n",
       "    <tr>\n",
       "      <th>Orenmir</th>\n",
       "      <th>32</th>\n",
       "      <th>4.95</th>\n",
       "      <td>29.70</td>\n",
       "      <td>6</td>\n",
       "    </tr>\n",
       "    <tr>\n",
       "      <th>Singed Scalpel</th>\n",
       "      <th>103</th>\n",
       "      <th>4.87</th>\n",
       "      <td>29.22</td>\n",
       "      <td>6</td>\n",
       "    </tr>\n",
       "    <tr>\n",
       "      <th>Splitter, Foe Of Subtlety</th>\n",
       "      <th>107</th>\n",
       "      <th>3.61</th>\n",
       "      <td>28.88</td>\n",
       "      <td>8</td>\n",
       "    </tr>\n",
       "  </tbody>\n",
       "</table>\n",
       "</div>"
      ],
      "text/plain": [
       "                                          Total Purchase Value  Purchase Count\n",
       "Item Name                  Item ID Price                                      \n",
       "Retribution Axe            34      4.14                  37.26               9\n",
       "Spectral Diamond Doomblade 115     4.25                  29.75               7\n",
       "Orenmir                    32      4.95                  29.70               6\n",
       "Singed Scalpel             103     4.87                  29.22               6\n",
       "Splitter, Foe Of Subtlety  107     3.61                  28.88               8"
      ]
     },
     "execution_count": 96,
     "metadata": {},
     "output_type": "execute_result"
    }
   ],
   "source": [
    "most_profitable = most_profitable.rename(columns={\\\n",
    "            'count': 'Purchase Count', 'sum': 'Total Purchase Value'})\n",
    "most_profitable"
   ]
  },
  {
   "cell_type": "code",
   "execution_count": 110,
   "metadata": {},
   "outputs": [
    {
     "data": {
      "text/plain": [
       "dtype('int64')"
      ]
     },
     "execution_count": 110,
     "metadata": {},
     "output_type": "execute_result"
    }
   ],
   "source": [
    "df['Item ID'].dtype"
   ]
  },
  {
   "cell_type": "code",
   "execution_count": 115,
   "metadata": {},
   "outputs": [],
   "source": [
    "df['Item ID'] = df['Item ID'].apply(str)"
   ]
  },
  {
   "cell_type": "code",
   "execution_count": 116,
   "metadata": {},
   "outputs": [
    {
     "data": {
      "text/plain": [
       "dtype('O')"
      ]
     },
     "execution_count": 116,
     "metadata": {},
     "output_type": "execute_result"
    }
   ],
   "source": [
    "df['Item ID'].dtype"
   ]
  },
  {
   "cell_type": "code",
   "execution_count": 117,
   "metadata": {},
   "outputs": [
    {
     "data": {
      "text/plain": [
       "dtype('O')"
      ]
     },
     "execution_count": 117,
     "metadata": {},
     "output_type": "execute_result"
    }
   ],
   "source": [
    "df['Item Name'].dtype"
   ]
  },
  {
   "cell_type": "code",
   "execution_count": 122,
   "metadata": {},
   "outputs": [],
   "source": [
    "df['Item'] = df['Item'].astype('|S')"
   ]
  },
  {
   "cell_type": "code",
   "execution_count": 123,
   "metadata": {},
   "outputs": [],
   "source": [
    "df['Item'] = df[['Item Name', 'Item ID']].apply(lambda x: ''.join(x), axis=0)"
   ]
  },
  {
   "cell_type": "code",
   "execution_count": 120,
   "metadata": {},
   "outputs": [],
   "source": [
    "df['Item'] = df['Item'].apply(str)"
   ]
  },
  {
   "cell_type": "code",
   "execution_count": 124,
   "metadata": {},
   "outputs": [
    {
     "data": {
      "text/html": [
       "<div>\n",
       "<style scoped>\n",
       "    .dataframe tbody tr th:only-of-type {\n",
       "        vertical-align: middle;\n",
       "    }\n",
       "\n",
       "    .dataframe tbody tr th {\n",
       "        vertical-align: top;\n",
       "    }\n",
       "\n",
       "    .dataframe thead th {\n",
       "        text-align: right;\n",
       "    }\n",
       "</style>\n",
       "<table border=\"1\" class=\"dataframe\">\n",
       "  <thead>\n",
       "    <tr style=\"text-align: right;\">\n",
       "      <th></th>\n",
       "      <th>Age</th>\n",
       "      <th>Gender</th>\n",
       "      <th>Item ID</th>\n",
       "      <th>Item Name</th>\n",
       "      <th>Price</th>\n",
       "      <th>SN</th>\n",
       "      <th>Item</th>\n",
       "    </tr>\n",
       "  </thead>\n",
       "  <tbody>\n",
       "    <tr>\n",
       "      <th>0</th>\n",
       "      <td>38</td>\n",
       "      <td>Male</td>\n",
       "      <td>165</td>\n",
       "      <td>Bone Crushing Silver Skewer</td>\n",
       "      <td>3.37</td>\n",
       "      <td>Aelalis34</td>\n",
       "      <td>NaN</td>\n",
       "    </tr>\n",
       "    <tr>\n",
       "      <th>1</th>\n",
       "      <td>21</td>\n",
       "      <td>Male</td>\n",
       "      <td>119</td>\n",
       "      <td>Stormbringer, Dark Blade of Ending Misery</td>\n",
       "      <td>2.32</td>\n",
       "      <td>Eolo46</td>\n",
       "      <td>NaN</td>\n",
       "    </tr>\n",
       "    <tr>\n",
       "      <th>2</th>\n",
       "      <td>34</td>\n",
       "      <td>Male</td>\n",
       "      <td>174</td>\n",
       "      <td>Primitive Blade</td>\n",
       "      <td>2.46</td>\n",
       "      <td>Assastnya25</td>\n",
       "      <td>NaN</td>\n",
       "    </tr>\n",
       "    <tr>\n",
       "      <th>3</th>\n",
       "      <td>21</td>\n",
       "      <td>Male</td>\n",
       "      <td>92</td>\n",
       "      <td>Final Critic</td>\n",
       "      <td>1.36</td>\n",
       "      <td>Pheusrical25</td>\n",
       "      <td>NaN</td>\n",
       "    </tr>\n",
       "    <tr>\n",
       "      <th>4</th>\n",
       "      <td>23</td>\n",
       "      <td>Male</td>\n",
       "      <td>63</td>\n",
       "      <td>Stormfury Mace</td>\n",
       "      <td>1.27</td>\n",
       "      <td>Aela59</td>\n",
       "      <td>NaN</td>\n",
       "    </tr>\n",
       "  </tbody>\n",
       "</table>\n",
       "</div>"
      ],
      "text/plain": [
       "   Age Gender Item ID                                  Item Name  Price  \\\n",
       "0   38   Male     165                Bone Crushing Silver Skewer   3.37   \n",
       "1   21   Male     119  Stormbringer, Dark Blade of Ending Misery   2.32   \n",
       "2   34   Male     174                            Primitive Blade   2.46   \n",
       "3   21   Male      92                               Final Critic   1.36   \n",
       "4   23   Male      63                             Stormfury Mace   1.27   \n",
       "\n",
       "             SN Item  \n",
       "0     Aelalis34  NaN  \n",
       "1        Eolo46  NaN  \n",
       "2   Assastnya25  NaN  \n",
       "3  Pheusrical25  NaN  \n",
       "4        Aela59  NaN  "
      ]
     },
     "execution_count": 124,
     "metadata": {},
     "output_type": "execute_result"
    }
   ],
   "source": [
    "df.head()"
   ]
  },
  {
   "cell_type": "code",
   "execution_count": null,
   "metadata": {},
   "outputs": [],
   "source": []
  }
 ],
 "metadata": {
  "kernelspec": {
   "display_name": "Python 3",
   "language": "python",
   "name": "python3"
  },
  "language_info": {
   "codemirror_mode": {
    "name": "ipython",
    "version": 3
   },
   "file_extension": ".py",
   "mimetype": "text/x-python",
   "name": "python",
   "nbconvert_exporter": "python",
   "pygments_lexer": "ipython3",
   "version": "3.6.4"
  }
 },
 "nbformat": 4,
 "nbformat_minor": 2
}
