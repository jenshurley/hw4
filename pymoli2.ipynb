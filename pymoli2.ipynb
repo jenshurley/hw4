{
 "cells": [
  {
   "cell_type": "code",
   "execution_count": 2,
   "metadata": {},
   "outputs": [],
   "source": [
    "import pandas as pd\n",
    "import matplotlib.pyplot as plt\n",
    "%matplotlib inline\n",
    "plt.style.use('ggplot')"
   ]
  },
  {
   "cell_type": "code",
   "execution_count": 3,
   "metadata": {},
   "outputs": [],
   "source": [
    "df = pd.read_json('purchase_data.json')"
   ]
  },
  {
   "cell_type": "code",
   "execution_count": 4,
   "metadata": {},
   "outputs": [
    {
     "data": {
      "text/plain": [
       "Male                     465\n",
       "Female                   100\n",
       "Other / Non-Disclosed      8\n",
       "Name: Gender, dtype: int64"
      ]
     },
     "execution_count": 4,
     "metadata": {},
     "output_type": "execute_result"
    }
   ],
   "source": [
    "df.groupby(['SN', 'Gender']).count().reset_index()['Gender'].value_counts()"
   ]
  },
  {
   "cell_type": "code",
   "execution_count": 6,
   "metadata": {},
   "outputs": [
    {
     "data": {
      "image/png": "[encoded data removed]",
      "text/plain": [
       "<matplotlib.figure.Figure at 0x106a52d30>"
      ]
     },
     "metadata": {},
     "output_type": "display_data"
    }
   ],
   "source": [
    "ax2 = df.groupby(['SN', 'Gender']).count().reset_index()['Gender'].value_counts().plot(kind='bar', figsize=(10,7),\n",
    "                                                  color=\"indigo\", fontsize=13);\n",
    "ax2.set_alpha(0.8)\n",
    "ax2.set_ylabel(\"Gender Count\", fontsize=18);\n",
    "ax2.set_yticks([i for i in range(0,500,100)])\n",
    "\n",
    "# create a list to collect the plt.patches data\n",
    "totals = []\n",
    "\n",
    "# find the values and append to list\n",
    "for i in ax2.patches:\n",
    "    totals.append(i.get_height())\n",
    "\n",
    "# set individual bar lables using above list\n",
    "total = sum(totals)\n",
    "\n",
    "# set individual bar lables using above list\n",
    "for i in ax2.patches:\n",
    "    # get_x pulls left or right; get_height pushes up or down\n",
    "    ax2.text(i.get_x()+.12, i.get_height(), \\\n",
    "            str(round((i.get_height()/total)*100, 2))+'%', fontsize=22,\n",
    "                color='black')"
   ]
  },
  {
   "cell_type": "markdown",
   "metadata": {},
   "source": [
    "**Female**"
   ]
  },
  {
   "cell_type": "code",
   "execution_count": 12,
   "metadata": {},
   "outputs": [
    {
     "data": {
      "text/html": [
       "<div>\n",
       "<style scoped>\n",
       "    .dataframe tbody tr th:only-of-type {\n",
       "        vertical-align: middle;\n",
       "    }\n",
       "\n",
       "    .dataframe tbody tr th {\n",
       "        vertical-align: top;\n",
       "    }\n",
       "\n",
       "    .dataframe thead th {\n",
       "        text-align: right;\n",
       "    }\n",
       "</style>\n",
       "<table border=\"1\" class=\"dataframe\">\n",
       "  <thead>\n",
       "    <tr style=\"text-align: right;\">\n",
       "      <th></th>\n",
       "      <th>Age</th>\n",
       "      <th>Gender</th>\n",
       "      <th>Item ID</th>\n",
       "      <th>Item Name</th>\n",
       "      <th>Price</th>\n",
       "      <th>SN</th>\n",
       "    </tr>\n",
       "  </thead>\n",
       "  <tbody>\n",
       "    <tr>\n",
       "      <th>7</th>\n",
       "      <td>29</td>\n",
       "      <td>Female</td>\n",
       "      <td>169</td>\n",
       "      <td>Interrogator, Blood Blade of the Queen</td>\n",
       "      <td>3.32</td>\n",
       "      <td>Iathenudil29</td>\n",
       "    </tr>\n",
       "    <tr>\n",
       "      <th>16</th>\n",
       "      <td>22</td>\n",
       "      <td>Female</td>\n",
       "      <td>123</td>\n",
       "      <td>Twilight's Carver</td>\n",
       "      <td>1.14</td>\n",
       "      <td>Sundista85</td>\n",
       "    </tr>\n",
       "    <tr>\n",
       "      <th>17</th>\n",
       "      <td>22</td>\n",
       "      <td>Female</td>\n",
       "      <td>59</td>\n",
       "      <td>Lightning, Etcher of the King</td>\n",
       "      <td>1.65</td>\n",
       "      <td>Aenarap34</td>\n",
       "    </tr>\n",
       "    <tr>\n",
       "      <th>22</th>\n",
       "      <td>11</td>\n",
       "      <td>Female</td>\n",
       "      <td>11</td>\n",
       "      <td>Brimstone</td>\n",
       "      <td>2.52</td>\n",
       "      <td>Deural48</td>\n",
       "    </tr>\n",
       "    <tr>\n",
       "      <th>29</th>\n",
       "      <td>16</td>\n",
       "      <td>Female</td>\n",
       "      <td>45</td>\n",
       "      <td>Glinting Glass Edge</td>\n",
       "      <td>2.46</td>\n",
       "      <td>Phaedai25</td>\n",
       "    </tr>\n",
       "  </tbody>\n",
       "</table>\n",
       "</div>"
      ],
      "text/plain": [
       "    Age  Gender  Item ID                               Item Name  Price  \\\n",
       "7    29  Female      169  Interrogator, Blood Blade of the Queen   3.32   \n",
       "16   22  Female      123                       Twilight's Carver   1.14   \n",
       "17   22  Female       59           Lightning, Etcher of the King   1.65   \n",
       "22   11  Female       11                               Brimstone   2.52   \n",
       "29   16  Female       45                     Glinting Glass Edge   2.46   \n",
       "\n",
       "              SN  \n",
       "7   Iathenudil29  \n",
       "16    Sundista85  \n",
       "17     Aenarap34  \n",
       "22      Deural48  \n",
       "29     Phaedai25  "
      ]
     },
     "execution_count": 12,
     "metadata": {},
     "output_type": "execute_result"
    }
   ],
   "source": [
    "df_female = df.loc[df['Gender'] == 'Female']\n",
    "df_female.head()"
   ]
  },
  {
   "cell_type": "code",
   "execution_count": 14,
   "metadata": {},
   "outputs": [
    {
     "data": {
      "text/plain": [
       "382.90999999999997"
      ]
     },
     "execution_count": 14,
     "metadata": {},
     "output_type": "execute_result"
    }
   ],
   "source": [
    "total = df_female['Price'].sum()\n",
    "total"
   ]
  },
  {
   "cell_type": "code",
   "execution_count": 16,
   "metadata": {},
   "outputs": [
    {
     "data": {
      "text/plain": [
       "3.8290999999999995"
      ]
     },
     "execution_count": 16,
     "metadata": {},
     "output_type": "execute_result"
    }
   ],
   "source": [
    "normalized_total = total/df_female['SN'].nunique()\n",
    "normalized_total"
   ]
  },
  {
   "cell_type": "markdown",
   "metadata": {},
   "source": [
    "**Male**"
   ]
  },
  {
   "cell_type": "code",
   "execution_count": 17,
   "metadata": {},
   "outputs": [
    {
     "data": {
      "text/html": [
       "<div>\n",
       "<style scoped>\n",
       "    .dataframe tbody tr th:only-of-type {\n",
       "        vertical-align: middle;\n",
       "    }\n",
       "\n",
       "    .dataframe tbody tr th {\n",
       "        vertical-align: top;\n",
       "    }\n",
       "\n",
       "    .dataframe thead th {\n",
       "        text-align: right;\n",
       "    }\n",
       "</style>\n",
       "<table border=\"1\" class=\"dataframe\">\n",
       "  <thead>\n",
       "    <tr style=\"text-align: right;\">\n",
       "      <th></th>\n",
       "      <th>Age</th>\n",
       "      <th>Gender</th>\n",
       "      <th>Item ID</th>\n",
       "      <th>Item Name</th>\n",
       "      <th>Price</th>\n",
       "      <th>SN</th>\n",
       "    </tr>\n",
       "  </thead>\n",
       "  <tbody>\n",
       "    <tr>\n",
       "      <th>0</th>\n",
       "      <td>38</td>\n",
       "      <td>Male</td>\n",
       "      <td>165</td>\n",
       "      <td>Bone Crushing Silver Skewer</td>\n",
       "      <td>3.37</td>\n",
       "      <td>Aelalis34</td>\n",
       "    </tr>\n",
       "    <tr>\n",
       "      <th>1</th>\n",
       "      <td>21</td>\n",
       "      <td>Male</td>\n",
       "      <td>119</td>\n",
       "      <td>Stormbringer, Dark Blade of Ending Misery</td>\n",
       "      <td>2.32</td>\n",
       "      <td>Eolo46</td>\n",
       "    </tr>\n",
       "    <tr>\n",
       "      <th>2</th>\n",
       "      <td>34</td>\n",
       "      <td>Male</td>\n",
       "      <td>174</td>\n",
       "      <td>Primitive Blade</td>\n",
       "      <td>2.46</td>\n",
       "      <td>Assastnya25</td>\n",
       "    </tr>\n",
       "    <tr>\n",
       "      <th>3</th>\n",
       "      <td>21</td>\n",
       "      <td>Male</td>\n",
       "      <td>92</td>\n",
       "      <td>Final Critic</td>\n",
       "      <td>1.36</td>\n",
       "      <td>Pheusrical25</td>\n",
       "    </tr>\n",
       "    <tr>\n",
       "      <th>4</th>\n",
       "      <td>23</td>\n",
       "      <td>Male</td>\n",
       "      <td>63</td>\n",
       "      <td>Stormfury Mace</td>\n",
       "      <td>1.27</td>\n",
       "      <td>Aela59</td>\n",
       "    </tr>\n",
       "  </tbody>\n",
       "</table>\n",
       "</div>"
      ],
      "text/plain": [
       "   Age Gender  Item ID                                  Item Name  Price  \\\n",
       "0   38   Male      165                Bone Crushing Silver Skewer   3.37   \n",
       "1   21   Male      119  Stormbringer, Dark Blade of Ending Misery   2.32   \n",
       "2   34   Male      174                            Primitive Blade   2.46   \n",
       "3   21   Male       92                               Final Critic   1.36   \n",
       "4   23   Male       63                             Stormfury Mace   1.27   \n",
       "\n",
       "             SN  \n",
       "0     Aelalis34  \n",
       "1        Eolo46  \n",
       "2   Assastnya25  \n",
       "3  Pheusrical25  \n",
       "4        Aela59  "
      ]
     },
     "execution_count": 17,
     "metadata": {},
     "output_type": "execute_result"
    }
   ],
   "source": [
    "df_male = df.loc[df['Gender'] == 'Male']\n",
    "df_male.head()"
   ]
  },
  {
   "cell_type": "code",
   "execution_count": 20,
   "metadata": {},
   "outputs": [
    {
     "data": {
      "text/plain": [
       "1867.68"
      ]
     },
     "execution_count": 20,
     "metadata": {},
     "output_type": "execute_result"
    }
   ],
   "source": [
    "total_m = df_male['Price'].sum()\n",
    "total_m"
   ]
  },
  {
   "cell_type": "code",
   "execution_count": 21,
   "metadata": {},
   "outputs": [
    {
     "data": {
      "text/plain": [
       "4.016516129032258"
      ]
     },
     "execution_count": 21,
     "metadata": {},
     "output_type": "execute_result"
    }
   ],
   "source": [
    "normalized_total_m = total_m/df_male['SN'].nunique()\n",
    "normalized_total_m"
   ]
  },
  {
   "cell_type": "markdown",
   "metadata": {},
   "source": [
    "## Top Spenders"
   ]
  },
  {
   "cell_type": "code",
   "execution_count": 7,
   "metadata": {},
   "outputs": [
    {
     "data": {
      "image/png": "[encoded data removed]",
      "text/plain": [
       "<matplotlib.figure.Figure at 0x1069d9b00>"
      ]
     },
     "metadata": {},
     "output_type": "display_data"
    }
   ],
   "source": [
    "df['SN'].value_counts().head(15).plot.bar();"
   ]
  },
  {
   "cell_type": "markdown",
   "metadata": {},
   "source": [
    "**Since the value count is the same for the 5th item and the 8th items, I included those in top items.**"
   ]
  },
  {
   "cell_type": "code",
   "execution_count": 39,
   "metadata": {},
   "outputs": [],
   "source": [
    "top_spenders = list(df['SN'].value_counts()[:6].to_dict().keys())"
   ]
  },
  {
   "cell_type": "code",
   "execution_count": 40,
   "metadata": {},
   "outputs": [],
   "source": [
    "mask_spend = df['SN'].isin(top_spenders)"
   ]
  },
  {
   "cell_type": "code",
   "execution_count": 41,
   "metadata": {},
   "outputs": [],
   "source": [
    "top_spenders_df = df[mask_spend]"
   ]
  },
  {
   "cell_type": "code",
   "execution_count": 56,
   "metadata": {},
   "outputs": [
    {
     "data": {
      "text/html": [
       "<div>\n",
       "<style scoped>\n",
       "    .dataframe tbody tr th:only-of-type {\n",
       "        vertical-align: middle;\n",
       "    }\n",
       "\n",
       "    .dataframe tbody tr th {\n",
       "        vertical-align: top;\n",
       "    }\n",
       "\n",
       "    .dataframe thead th {\n",
       "        text-align: right;\n",
       "    }\n",
       "</style>\n",
       "<table border=\"1\" class=\"dataframe\">\n",
       "  <thead>\n",
       "    <tr style=\"text-align: right;\">\n",
       "      <th></th>\n",
       "      <th>Age</th>\n",
       "      <th>Gender</th>\n",
       "      <th>Item ID</th>\n",
       "      <th>Item Name</th>\n",
       "      <th>Price</th>\n",
       "      <th>SN</th>\n",
       "    </tr>\n",
       "  </thead>\n",
       "  <tbody>\n",
       "    <tr>\n",
       "      <th>767</th>\n",
       "      <td>20</td>\n",
       "      <td>Male</td>\n",
       "      <td>122</td>\n",
       "      <td>Unending Tyranny</td>\n",
       "      <td>1.21</td>\n",
       "      <td>Hailaphos89</td>\n",
       "    </tr>\n",
       "    <tr>\n",
       "      <th>93</th>\n",
       "      <td>20</td>\n",
       "      <td>Male</td>\n",
       "      <td>20</td>\n",
       "      <td>Netherbane</td>\n",
       "      <td>1.48</td>\n",
       "      <td>Hailaphos89</td>\n",
       "    </tr>\n",
       "    <tr>\n",
       "      <th>429</th>\n",
       "      <td>20</td>\n",
       "      <td>Male</td>\n",
       "      <td>82</td>\n",
       "      <td>Nirvana</td>\n",
       "      <td>1.11</td>\n",
       "      <td>Hailaphos89</td>\n",
       "    </tr>\n",
       "    <tr>\n",
       "      <th>218</th>\n",
       "      <td>20</td>\n",
       "      <td>Male</td>\n",
       "      <td>31</td>\n",
       "      <td>Trickster</td>\n",
       "      <td>2.07</td>\n",
       "      <td>Hailaphos89</td>\n",
       "    </tr>\n",
       "    <tr>\n",
       "      <th>623</th>\n",
       "      <td>39</td>\n",
       "      <td>Female</td>\n",
       "      <td>161</td>\n",
       "      <td>Devine</td>\n",
       "      <td>1.45</td>\n",
       "      <td>Mindimnya67</td>\n",
       "    </tr>\n",
       "    <tr>\n",
       "      <th>592</th>\n",
       "      <td>39</td>\n",
       "      <td>Female</td>\n",
       "      <td>145</td>\n",
       "      <td>Fiery Glass Crusader</td>\n",
       "      <td>4.45</td>\n",
       "      <td>Mindimnya67</td>\n",
       "    </tr>\n",
       "    <tr>\n",
       "      <th>464</th>\n",
       "      <td>39</td>\n",
       "      <td>Female</td>\n",
       "      <td>163</td>\n",
       "      <td>Thunderfury Scimitar</td>\n",
       "      <td>3.02</td>\n",
       "      <td>Mindimnya67</td>\n",
       "    </tr>\n",
       "    <tr>\n",
       "      <th>450</th>\n",
       "      <td>39</td>\n",
       "      <td>Female</td>\n",
       "      <td>140</td>\n",
       "      <td>Striker</td>\n",
       "      <td>3.82</td>\n",
       "      <td>Mindimnya67</td>\n",
       "    </tr>\n",
       "    <tr>\n",
       "      <th>673</th>\n",
       "      <td>11</td>\n",
       "      <td>Male</td>\n",
       "      <td>176</td>\n",
       "      <td>Relentless Iron Skewer</td>\n",
       "      <td>2.97</td>\n",
       "      <td>Qarwen67</td>\n",
       "    </tr>\n",
       "    <tr>\n",
       "      <th>24</th>\n",
       "      <td>11</td>\n",
       "      <td>Male</td>\n",
       "      <td>65</td>\n",
       "      <td>Conqueror Adamantite Mace</td>\n",
       "      <td>1.96</td>\n",
       "      <td>Qarwen67</td>\n",
       "    </tr>\n",
       "    <tr>\n",
       "      <th>117</th>\n",
       "      <td>11</td>\n",
       "      <td>Male</td>\n",
       "      <td>160</td>\n",
       "      <td>Azurewrath</td>\n",
       "      <td>2.22</td>\n",
       "      <td>Qarwen67</td>\n",
       "    </tr>\n",
       "    <tr>\n",
       "      <th>68</th>\n",
       "      <td>11</td>\n",
       "      <td>Male</td>\n",
       "      <td>38</td>\n",
       "      <td>The Void, Vengeance of Dark Magic</td>\n",
       "      <td>2.82</td>\n",
       "      <td>Qarwen67</td>\n",
       "    </tr>\n",
       "    <tr>\n",
       "      <th>337</th>\n",
       "      <td>25</td>\n",
       "      <td>Male</td>\n",
       "      <td>140</td>\n",
       "      <td>Striker</td>\n",
       "      <td>3.82</td>\n",
       "      <td>Saedue76</td>\n",
       "    </tr>\n",
       "    <tr>\n",
       "      <th>708</th>\n",
       "      <td>25</td>\n",
       "      <td>Male</td>\n",
       "      <td>73</td>\n",
       "      <td>Ritual Mace</td>\n",
       "      <td>3.74</td>\n",
       "      <td>Saedue76</td>\n",
       "    </tr>\n",
       "    <tr>\n",
       "      <th>259</th>\n",
       "      <td>25</td>\n",
       "      <td>Male</td>\n",
       "      <td>13</td>\n",
       "      <td>Serenity</td>\n",
       "      <td>1.49</td>\n",
       "      <td>Saedue76</td>\n",
       "    </tr>\n",
       "    <tr>\n",
       "      <th>411</th>\n",
       "      <td>25</td>\n",
       "      <td>Male</td>\n",
       "      <td>7</td>\n",
       "      <td>Thorn, Satchel of Dark Souls</td>\n",
       "      <td>4.51</td>\n",
       "      <td>Saedue76</td>\n",
       "    </tr>\n",
       "    <tr>\n",
       "      <th>304</th>\n",
       "      <td>31</td>\n",
       "      <td>Male</td>\n",
       "      <td>173</td>\n",
       "      <td>Stormfury Longsword</td>\n",
       "      <td>4.83</td>\n",
       "      <td>Sondastan54</td>\n",
       "    </tr>\n",
       "    <tr>\n",
       "      <th>754</th>\n",
       "      <td>31</td>\n",
       "      <td>Male</td>\n",
       "      <td>104</td>\n",
       "      <td>Gladiator's Glaive</td>\n",
       "      <td>1.36</td>\n",
       "      <td>Sondastan54</td>\n",
       "    </tr>\n",
       "    <tr>\n",
       "      <th>420</th>\n",
       "      <td>31</td>\n",
       "      <td>Male</td>\n",
       "      <td>170</td>\n",
       "      <td>Shadowsteel</td>\n",
       "      <td>1.98</td>\n",
       "      <td>Sondastan54</td>\n",
       "    </tr>\n",
       "    <tr>\n",
       "      <th>75</th>\n",
       "      <td>31</td>\n",
       "      <td>Male</td>\n",
       "      <td>31</td>\n",
       "      <td>Trickster</td>\n",
       "      <td>2.07</td>\n",
       "      <td>Sondastan54</td>\n",
       "    </tr>\n",
       "    <tr>\n",
       "      <th>131</th>\n",
       "      <td>29</td>\n",
       "      <td>Male</td>\n",
       "      <td>62</td>\n",
       "      <td>Piece Maker</td>\n",
       "      <td>4.36</td>\n",
       "      <td>Undirrala66</td>\n",
       "    </tr>\n",
       "    <tr>\n",
       "      <th>107</th>\n",
       "      <td>29</td>\n",
       "      <td>Male</td>\n",
       "      <td>115</td>\n",
       "      <td>Spectral Diamond Doomblade</td>\n",
       "      <td>4.25</td>\n",
       "      <td>Undirrala66</td>\n",
       "    </tr>\n",
       "    <tr>\n",
       "      <th>537</th>\n",
       "      <td>29</td>\n",
       "      <td>Male</td>\n",
       "      <td>18</td>\n",
       "      <td>Torchlight, Bond of Storms</td>\n",
       "      <td>1.77</td>\n",
       "      <td>Undirrala66</td>\n",
       "    </tr>\n",
       "    <tr>\n",
       "      <th>79</th>\n",
       "      <td>29</td>\n",
       "      <td>Male</td>\n",
       "      <td>144</td>\n",
       "      <td>Blood Infused Guardian</td>\n",
       "      <td>2.86</td>\n",
       "      <td>Undirrala66</td>\n",
       "    </tr>\n",
       "    <tr>\n",
       "      <th>596</th>\n",
       "      <td>29</td>\n",
       "      <td>Male</td>\n",
       "      <td>133</td>\n",
       "      <td>Faith's Scimitar</td>\n",
       "      <td>3.82</td>\n",
       "      <td>Undirrala66</td>\n",
       "    </tr>\n",
       "  </tbody>\n",
       "</table>\n",
       "</div>"
      ],
      "text/plain": [
       "     Age  Gender  Item ID                          Item Name  Price  \\\n",
       "767   20    Male      122                   Unending Tyranny   1.21   \n",
       "93    20    Male       20                         Netherbane   1.48   \n",
       "429   20    Male       82                            Nirvana   1.11   \n",
       "218   20    Male       31                          Trickster   2.07   \n",
       "623   39  Female      161                             Devine   1.45   \n",
       "592   39  Female      145               Fiery Glass Crusader   4.45   \n",
       "464   39  Female      163               Thunderfury Scimitar   3.02   \n",
       "450   39  Female      140                            Striker   3.82   \n",
       "673   11    Male      176             Relentless Iron Skewer   2.97   \n",
       "24    11    Male       65          Conqueror Adamantite Mace   1.96   \n",
       "117   11    Male      160                         Azurewrath   2.22   \n",
       "68    11    Male       38  The Void, Vengeance of Dark Magic   2.82   \n",
       "337   25    Male      140                            Striker   3.82   \n",
       "708   25    Male       73                        Ritual Mace   3.74   \n",
       "259   25    Male       13                           Serenity   1.49   \n",
       "411   25    Male        7       Thorn, Satchel of Dark Souls   4.51   \n",
       "304   31    Male      173                Stormfury Longsword   4.83   \n",
       "754   31    Male      104                 Gladiator's Glaive   1.36   \n",
       "420   31    Male      170                        Shadowsteel   1.98   \n",
       "75    31    Male       31                          Trickster   2.07   \n",
       "131   29    Male       62                        Piece Maker   4.36   \n",
       "107   29    Male      115         Spectral Diamond Doomblade   4.25   \n",
       "537   29    Male       18         Torchlight, Bond of Storms   1.77   \n",
       "79    29    Male      144             Blood Infused Guardian   2.86   \n",
       "596   29    Male      133                   Faith's Scimitar   3.82   \n",
       "\n",
       "              SN  \n",
       "767  Hailaphos89  \n",
       "93   Hailaphos89  \n",
       "429  Hailaphos89  \n",
       "218  Hailaphos89  \n",
       "623  Mindimnya67  \n",
       "592  Mindimnya67  \n",
       "464  Mindimnya67  \n",
       "450  Mindimnya67  \n",
       "673     Qarwen67  \n",
       "24      Qarwen67  \n",
       "117     Qarwen67  \n",
       "68      Qarwen67  \n",
       "337     Saedue76  \n",
       "708     Saedue76  \n",
       "259     Saedue76  \n",
       "411     Saedue76  \n",
       "304  Sondastan54  \n",
       "754  Sondastan54  \n",
       "420  Sondastan54  \n",
       "75   Sondastan54  \n",
       "131  Undirrala66  \n",
       "107  Undirrala66  \n",
       "537  Undirrala66  \n",
       "79   Undirrala66  \n",
       "596  Undirrala66  "
      ]
     },
     "execution_count": 56,
     "metadata": {},
     "output_type": "execute_result"
    }
   ],
   "source": [
    "top_spenders_df.sort_values('SN')\n",
    "#AGGREGATE? "
   ]
  },
  {
   "cell_type": "markdown",
   "metadata": {},
   "source": [
    "## Most Popular Items"
   ]
  },
  {
   "cell_type": "code",
   "execution_count": 57,
   "metadata": {},
   "outputs": [
    {
     "data": {
      "image/png": "[encoded data removed]",
      "text/plain": [
       "<matplotlib.figure.Figure at 0x114a96978>"
      ]
     },
     "metadata": {},
     "output_type": "display_data"
    }
   ],
   "source": [
    "df['Item Name'].value_counts().head(15).plot.bar();"
   ]
  },
  {
   "cell_type": "code",
   "execution_count": null,
   "metadata": {},
   "outputs": [],
   "source": [
    "top_items = list(df['Item Name'].value_counts()[:8].to_dict().keys())\n"
   ]
  },
  {
   "cell_type": "code",
   "execution_count": null,
   "metadata": {},
   "outputs": [],
   "source": [
    "top_items"
   ]
  },
  {
   "cell_type": "code",
   "execution_count": null,
   "metadata": {},
   "outputs": [],
   "source": [
    "mask = df['Item Name'].isin(top_items)"
   ]
  },
  {
   "cell_type": "code",
   "execution_count": null,
   "metadata": {},
   "outputs": [],
   "source": [
    "top_items_df = df[mask]"
   ]
  },
  {
   "cell_type": "code",
   "execution_count": null,
   "metadata": {},
   "outputs": [],
   "source": [
    "top_items_df.sort_values(['Item Name']).head()\n",
    "#TODO should item name be index? how to display top item at the top? "
   ]
  },
  {
   "cell_type": "markdown",
   "metadata": {},
   "source": [
    "## Most Profitable Items"
   ]
  },
  {
   "cell_type": "code",
   "execution_count": null,
   "metadata": {},
   "outputs": [],
   "source": [
    "#df[''].value_counts().head(15).plot.bar();\n",
    "#TODO - Calculations so I know what these are "
   ]
  }
 ],
 "metadata": {
  "kernelspec": {
   "display_name": "Python 3",
   "language": "python",
   "name": "python3"
  },
  "language_info": {
   "codemirror_mode": {
    "name": "ipython",
    "version": 3
   },
   "file_extension": ".py",
   "mimetype": "text/x-python",
   "name": "python",
   "nbconvert_exporter": "python",
   "pygments_lexer": "ipython3",
   "version": "3.6.4"
  }
 },
 "nbformat": 4,
 "nbformat_minor": 2
}
