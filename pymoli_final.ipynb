{
 "cells": [
  {
   "cell_type": "code",
   "execution_count": 24,
   "metadata": {},
   "outputs": [],
   "source": [
    "## Summary \n",
    "# Three observable trends\n",
    "# age\n",
    "#fix the column names for age"
   ]
  },
  {
   "cell_type": "code",
   "execution_count": 25,
   "metadata": {},
   "outputs": [],
   "source": [
    "import pandas as pd\n",
    "import matplotlib.pyplot as plt\n",
    "import numpy as np\n",
    "%matplotlib inline"
   ]
  },
  {
   "cell_type": "code",
   "execution_count": 26,
   "metadata": {},
   "outputs": [],
   "source": [
    "df = pd.read_json('purchase_data.json')"
   ]
  },
  {
   "cell_type": "markdown",
   "metadata": {},
   "source": [
    "### Total Number of Players and Player Count"
   ]
  },
  {
   "cell_type": "code",
   "execution_count": 27,
   "metadata": {},
   "outputs": [
    {
     "data": {
      "text/plain": [
       "573"
      ]
     },
     "execution_count": 27,
     "metadata": {},
     "output_type": "execute_result"
    }
   ],
   "source": [
    "df.SN.nunique()"
   ]
  },
  {
   "cell_type": "markdown",
   "metadata": {},
   "source": [
    "## Purchasing Analysis\n",
    "#### Number of Unique Items"
   ]
  },
  {
   "cell_type": "code",
   "execution_count": 28,
   "metadata": {},
   "outputs": [
    {
     "data": {
      "text/plain": [
       "183"
      ]
     },
     "execution_count": 28,
     "metadata": {},
     "output_type": "execute_result"
    }
   ],
   "source": [
    "df['Item ID'].nunique()"
   ]
  },
  {
   "cell_type": "markdown",
   "metadata": {},
   "source": [
    "#### Average Purchase Price"
   ]
  },
  {
   "cell_type": "code",
   "execution_count": 29,
   "metadata": {},
   "outputs": [
    {
     "data": {
      "text/plain": [
       "'$2.93'"
      ]
     },
     "execution_count": 29,
     "metadata": {},
     "output_type": "execute_result"
    }
   ],
   "source": [
    "'${:.2f}'.format(df.Price.mean())"
   ]
  },
  {
   "cell_type": "markdown",
   "metadata": {},
   "source": [
    "#### Total Number of Purchases"
   ]
  },
  {
   "cell_type": "code",
   "execution_count": 30,
   "metadata": {},
   "outputs": [
    {
     "data": {
      "text/plain": [
       "780"
      ]
     },
     "execution_count": 30,
     "metadata": {},
     "output_type": "execute_result"
    }
   ],
   "source": [
    "df.shape[0]"
   ]
  },
  {
   "cell_type": "markdown",
   "metadata": {},
   "source": [
    "#### Total Revenue"
   ]
  },
  {
   "cell_type": "code",
   "execution_count": 31,
   "metadata": {},
   "outputs": [
    {
     "data": {
      "text/plain": [
       "2286.33"
      ]
     },
     "execution_count": 31,
     "metadata": {},
     "output_type": "execute_result"
    }
   ],
   "source": [
    "df.Price.sum()"
   ]
  },
  {
   "cell_type": "markdown",
   "metadata": {},
   "source": [
    "## Gender Demographics"
   ]
  },
  {
   "cell_type": "markdown",
   "metadata": {},
   "source": [
    "#### Count of players by gender"
   ]
  },
  {
   "cell_type": "code",
   "execution_count": 32,
   "metadata": {},
   "outputs": [
    {
     "data": {
      "text/plain": [
       "Male                     465\n",
       "Female                   100\n",
       "Other / Non-Disclosed      8\n",
       "Name: Gender, dtype: int64"
      ]
     },
     "execution_count": 32,
     "metadata": {},
     "output_type": "execute_result"
    }
   ],
   "source": [
    "df.groupby(['SN', 'Gender']).count().reset_index()['Gender'].value_counts()"
   ]
  },
  {
   "cell_type": "markdown",
   "metadata": {},
   "source": [
    "#### Percentage of players by gender"
   ]
  },
  {
   "cell_type": "code",
   "execution_count": 33,
   "metadata": {},
   "outputs": [
    {
     "data": {
      "image/png": "[encoded data removed]",
      "text/plain": [
       "<matplotlib.figure.Figure at 0x115f577f0>"
      ]
     },
     "metadata": {},
     "output_type": "display_data"
    }
   ],
   "source": [
    "ax2 = df.groupby(['SN', 'Gender']).count().reset_index()['Gender'].value_counts().plot(kind='bar', figsize=(10,7),\n",
    "                                                  color=\"indigo\", fontsize=13);\n",
    "ax2.set_alpha(0.8)\n",
    "ax2.set_ylabel(\"Gender Count\", fontsize=18);\n",
    "ax2.set_yticks([i for i in range(0,500,100)])\n",
    "\n",
    "# create a list to collect the plt.patches data\n",
    "totals = []\n",
    "\n",
    "# find the values and append to list\n",
    "for i in ax2.patches:\n",
    "    totals.append(i.get_height())\n",
    "\n",
    "# set individual bar lables using above list\n",
    "total = sum(totals)\n",
    "\n",
    "# set individual bar lables using above list\n",
    "for i in ax2.patches:\n",
    "    # get_x pulls left or right; get_height pushes up or down\n",
    "    ax2.text(i.get_x()+.12, i.get_height(), \\\n",
    "            str(round((i.get_height()/total)*100, 2))+'%', fontsize=22,\n",
    "                color='black')"
   ]
  },
  {
   "cell_type": "markdown",
   "metadata": {},
   "source": [
    "## Gender Purchasing Analysis"
   ]
  },
  {
   "cell_type": "code",
   "execution_count": 34,
   "metadata": {},
   "outputs": [],
   "source": [
    "df.groupby(['Gender', 'SN']).count().reset_index()['Gender'].value_counts()\n",
    "normed = df.groupby(['Gender', 'SN']).count().reset_index()['Gender'].value_counts(normalize=True)\n",
    "absolute = df.groupby(['Gender', 'SN']).count().reset_index()['Gender'].value_counts(normalize=False)\n",
    "gdf = pd.concat([normed, absolute], axis=1)"
   ]
  },
  {
   "cell_type": "code",
   "execution_count": 35,
   "metadata": {},
   "outputs": [
    {
     "data": {
      "text/plain": [
       "Index(['Female', 'Male', 'Other / Non-Disclosed'], dtype='object', name='Gender')"
      ]
     },
     "execution_count": 35,
     "metadata": {},
     "output_type": "execute_result"
    }
   ],
   "source": [
    "df_gender = df.groupby('Gender').agg(['sum', 'mean', 'count'])\n",
    "df_gender.index"
   ]
  },
  {
   "cell_type": "code",
   "execution_count": 36,
   "metadata": {},
   "outputs": [],
   "source": [
    "level0 = df_gender.columns.get_level_values(0)\n",
    "level1 = df_gender.columns.get_level_values(1)\n",
    "df_gender.columns = level0 + ' ' + level1\n",
    "# df_gender = df_gender[['sum', 'mean', 'count']]"
   ]
  },
  {
   "cell_type": "code",
   "execution_count": 37,
   "metadata": {},
   "outputs": [
    {
     "data": {
      "text/html": [
       "<div>\n",
       "<style scoped>\n",
       "    .dataframe tbody tr th:only-of-type {\n",
       "        vertical-align: middle;\n",
       "    }\n",
       "\n",
       "    .dataframe tbody tr th {\n",
       "        vertical-align: top;\n",
       "    }\n",
       "\n",
       "    .dataframe thead th {\n",
       "        text-align: right;\n",
       "    }\n",
       "</style>\n",
       "<table border=\"1\" class=\"dataframe\">\n",
       "  <thead>\n",
       "    <tr style=\"text-align: right;\">\n",
       "      <th></th>\n",
       "      <th>Age sum</th>\n",
       "      <th>Age mean</th>\n",
       "      <th>Age count</th>\n",
       "      <th>Item ID sum</th>\n",
       "      <th>Item ID mean</th>\n",
       "      <th>Item ID count</th>\n",
       "      <th>Price sum</th>\n",
       "      <th>Price mean</th>\n",
       "      <th>Price count</th>\n",
       "    </tr>\n",
       "    <tr>\n",
       "      <th>Gender</th>\n",
       "      <th></th>\n",
       "      <th></th>\n",
       "      <th></th>\n",
       "      <th></th>\n",
       "      <th></th>\n",
       "      <th></th>\n",
       "      <th></th>\n",
       "      <th></th>\n",
       "      <th></th>\n",
       "    </tr>\n",
       "  </thead>\n",
       "  <tbody>\n",
       "    <tr>\n",
       "      <th>Female</th>\n",
       "      <td>3068</td>\n",
       "      <td>22.558824</td>\n",
       "      <td>136</td>\n",
       "      <td>11983</td>\n",
       "      <td>88.110294</td>\n",
       "      <td>136</td>\n",
       "      <td>382.91</td>\n",
       "      <td>2.815515</td>\n",
       "      <td>136</td>\n",
       "    </tr>\n",
       "    <tr>\n",
       "      <th>Male</th>\n",
       "      <td>14360</td>\n",
       "      <td>22.685624</td>\n",
       "      <td>633</td>\n",
       "      <td>57965</td>\n",
       "      <td>91.571880</td>\n",
       "      <td>633</td>\n",
       "      <td>1867.68</td>\n",
       "      <td>2.950521</td>\n",
       "      <td>633</td>\n",
       "    </tr>\n",
       "    <tr>\n",
       "      <th>Other / Non-Disclosed</th>\n",
       "      <td>301</td>\n",
       "      <td>27.363636</td>\n",
       "      <td>11</td>\n",
       "      <td>1261</td>\n",
       "      <td>114.636364</td>\n",
       "      <td>11</td>\n",
       "      <td>35.74</td>\n",
       "      <td>3.249091</td>\n",
       "      <td>11</td>\n",
       "    </tr>\n",
       "  </tbody>\n",
       "</table>\n",
       "</div>"
      ],
      "text/plain": [
       "                       Age sum   Age mean  Age count  Item ID sum  \\\n",
       "Gender                                                              \n",
       "Female                    3068  22.558824        136        11983   \n",
       "Male                     14360  22.685624        633        57965   \n",
       "Other / Non-Disclosed      301  27.363636         11         1261   \n",
       "\n",
       "                       Item ID mean  Item ID count  Price sum  Price mean  \\\n",
       "Gender                                                                      \n",
       "Female                    88.110294            136     382.91    2.815515   \n",
       "Male                      91.571880            633    1867.68    2.950521   \n",
       "Other / Non-Disclosed    114.636364             11      35.74    3.249091   \n",
       "\n",
       "                       Price count  \n",
       "Gender                              \n",
       "Female                         136  \n",
       "Male                           633  \n",
       "Other / Non-Disclosed           11  "
      ]
     },
     "execution_count": 37,
     "metadata": {},
     "output_type": "execute_result"
    }
   ],
   "source": [
    "df_gender"
   ]
  },
  {
   "cell_type": "code",
   "execution_count": 38,
   "metadata": {},
   "outputs": [],
   "source": [
    "df_gender = df_gender[['Price sum', 'Price mean', 'Price count']]"
   ]
  },
  {
   "cell_type": "code",
   "execution_count": 39,
   "metadata": {},
   "outputs": [
    {
     "data": {
      "text/html": [
       "<div>\n",
       "<style scoped>\n",
       "    .dataframe tbody tr th:only-of-type {\n",
       "        vertical-align: middle;\n",
       "    }\n",
       "\n",
       "    .dataframe tbody tr th {\n",
       "        vertical-align: top;\n",
       "    }\n",
       "\n",
       "    .dataframe thead th {\n",
       "        text-align: right;\n",
       "    }\n",
       "</style>\n",
       "<table border=\"1\" class=\"dataframe\">\n",
       "  <thead>\n",
       "    <tr style=\"text-align: right;\">\n",
       "      <th></th>\n",
       "      <th>Price sum</th>\n",
       "      <th>Price mean</th>\n",
       "      <th>Price count</th>\n",
       "    </tr>\n",
       "    <tr>\n",
       "      <th>Gender</th>\n",
       "      <th></th>\n",
       "      <th></th>\n",
       "      <th></th>\n",
       "    </tr>\n",
       "  </thead>\n",
       "  <tbody>\n",
       "    <tr>\n",
       "      <th>Female</th>\n",
       "      <td>382.91</td>\n",
       "      <td>2.815515</td>\n",
       "      <td>136</td>\n",
       "    </tr>\n",
       "    <tr>\n",
       "      <th>Male</th>\n",
       "      <td>1867.68</td>\n",
       "      <td>2.950521</td>\n",
       "      <td>633</td>\n",
       "    </tr>\n",
       "    <tr>\n",
       "      <th>Other / Non-Disclosed</th>\n",
       "      <td>35.74</td>\n",
       "      <td>3.249091</td>\n",
       "      <td>11</td>\n",
       "    </tr>\n",
       "  </tbody>\n",
       "</table>\n",
       "</div>"
      ],
      "text/plain": [
       "                       Price sum  Price mean  Price count\n",
       "Gender                                                   \n",
       "Female                    382.91    2.815515          136\n",
       "Male                     1867.68    2.950521          633\n",
       "Other / Non-Disclosed      35.74    3.249091           11"
      ]
     },
     "execution_count": 39,
     "metadata": {},
     "output_type": "execute_result"
    }
   ],
   "source": [
    "df_gender"
   ]
  },
  {
   "cell_type": "code",
   "execution_count": 40,
   "metadata": {},
   "outputs": [],
   "source": [
    "df_gender = pd.concat([df_gender,absolute], axis=1)\n",
    "df_gender['Normalized'] = df_gender['Price sum'] / df_gender.Gender"
   ]
  },
  {
   "cell_type": "code",
   "execution_count": 41,
   "metadata": {},
   "outputs": [
    {
     "data": {
      "text/html": [
       "<div>\n",
       "<style scoped>\n",
       "    .dataframe tbody tr th:only-of-type {\n",
       "        vertical-align: middle;\n",
       "    }\n",
       "\n",
       "    .dataframe tbody tr th {\n",
       "        vertical-align: top;\n",
       "    }\n",
       "\n",
       "    .dataframe thead th {\n",
       "        text-align: right;\n",
       "    }\n",
       "</style>\n",
       "<table border=\"1\" class=\"dataframe\">\n",
       "  <thead>\n",
       "    <tr style=\"text-align: right;\">\n",
       "      <th></th>\n",
       "      <th>Price sum</th>\n",
       "      <th>Price mean</th>\n",
       "      <th>Price count</th>\n",
       "      <th>Gender</th>\n",
       "      <th>Normalized</th>\n",
       "    </tr>\n",
       "  </thead>\n",
       "  <tbody>\n",
       "    <tr>\n",
       "      <th>Female</th>\n",
       "      <td>382.91</td>\n",
       "      <td>2.815515</td>\n",
       "      <td>136</td>\n",
       "      <td>100</td>\n",
       "      <td>3.829100</td>\n",
       "    </tr>\n",
       "    <tr>\n",
       "      <th>Male</th>\n",
       "      <td>1867.68</td>\n",
       "      <td>2.950521</td>\n",
       "      <td>633</td>\n",
       "      <td>465</td>\n",
       "      <td>4.016516</td>\n",
       "    </tr>\n",
       "    <tr>\n",
       "      <th>Other / Non-Disclosed</th>\n",
       "      <td>35.74</td>\n",
       "      <td>3.249091</td>\n",
       "      <td>11</td>\n",
       "      <td>8</td>\n",
       "      <td>4.467500</td>\n",
       "    </tr>\n",
       "  </tbody>\n",
       "</table>\n",
       "</div>"
      ],
      "text/plain": [
       "                       Price sum  Price mean  Price count  Gender  Normalized\n",
       "Female                    382.91    2.815515          136     100    3.829100\n",
       "Male                     1867.68    2.950521          633     465    4.016516\n",
       "Other / Non-Disclosed      35.74    3.249091           11       8    4.467500"
      ]
     },
     "execution_count": 41,
     "metadata": {},
     "output_type": "execute_result"
    }
   ],
   "source": [
    "df_gender"
   ]
  },
  {
   "cell_type": "markdown",
   "metadata": {},
   "source": [
    "## Age Demographics"
   ]
  },
  {
   "cell_type": "code",
   "execution_count": 42,
   "metadata": {},
   "outputs": [],
   "source": [
    "import seaborn as sns"
   ]
  },
  {
   "cell_type": "code",
   "execution_count": 43,
   "metadata": {},
   "outputs": [],
   "source": [
    "age_df = df[['Age', 'SN']].drop_duplicates()"
   ]
  },
  {
   "cell_type": "code",
   "execution_count": 44,
   "metadata": {},
   "outputs": [
    {
     "data": {
      "text/plain": [
       "(573, 2)"
      ]
     },
     "execution_count": 44,
     "metadata": {},
     "output_type": "execute_result"
    }
   ],
   "source": [
    "age_df.shape"
   ]
  },
  {
   "cell_type": "code",
   "execution_count": 45,
   "metadata": {},
   "outputs": [
    {
     "data": {
      "text/plain": [
       "<matplotlib.axes._subplots.AxesSubplot at 0x1a18025d68>"
      ]
     },
     "execution_count": 45,
     "metadata": {},
     "output_type": "execute_result"
    },
    {
     "data": {
      "image/png": "[encoded data removed]",
      "text/plain": [
       "<matplotlib.figure.Figure at 0x1a18025668>"
      ]
     },
     "metadata": {},
     "output_type": "display_data"
    }
   ],
   "source": [
    "sns.distplot(age_df['Age'], bins=10, kde=False)"
   ]
  },
  {
   "cell_type": "code",
   "execution_count": 46,
   "metadata": {},
   "outputs": [],
   "source": [
    "ages = [0, 9.9, 14.9, 19.9, 24.9, 29.90, 34.90, 39.90, 99999]\n",
    "age_groups = [\"<10\", \"10-14\", \"15-19\", \"20-24\", \"25-29\", \"30-34\", \"35-39\", \"40+\"]"
   ]
  },
  {
   "cell_type": "code",
   "execution_count": 47,
   "metadata": {},
   "outputs": [
    {
     "name": "stderr",
     "output_type": "stream",
     "text": [
      "/Users/jennifershurley/anaconda3/lib/python3.6/site-packages/ipykernel_launcher.py:7: UserWarning: DataFrame columns are not unique, some columns will be omitted.\n",
      "  import sys\n"
     ]
    }
   ],
   "source": [
    "df['Age_Group'] = pd.cut(df['Age'], ages, labels = age_groups)\n",
    "\n",
    "age_df['Age_Group'] = pd.cut(age_df['Age'], ages, labels=age_groups)\n",
    "\n",
    "age_out = pd.concat([age_df.Age_Group.value_counts(normalize=True),\\\n",
    "  age_df.Age_Group.value_counts()], axis=1)\n",
    " \n",
    "age_out.to_dict()['Age_Group']\n",
    "\n",
    "age_norm = df.groupby('Age_Group').agg(['sum', 'mean', 'count'])['Price']\n",
    "age_norm.reset_index(inplace=True)"
   ]
  },
  {
   "cell_type": "code",
   "execution_count": 48,
   "metadata": {},
   "outputs": [
    {
     "name": "stderr",
     "output_type": "stream",
     "text": [
      "/Users/jennifershurley/anaconda3/lib/python3.6/site-packages/ipykernel_launcher.py:1: UserWarning: DataFrame columns are not unique, some columns will be omitted.\n",
      "  \"\"\"Entry point for launching an IPython kernel.\n"
     ]
    }
   ],
   "source": [
    "age_norm[\"unique_buyers\"] = age_norm[\"Age_Group\"].map(lambda x: age_out.to_dict()['Age_Group'].get(x))"
   ]
  },
  {
   "cell_type": "code",
   "execution_count": 49,
   "metadata": {},
   "outputs": [],
   "source": [
    "age_norm['normed_mean'] = age_norm['sum'] / age_norm['unique_buyers'].astype('float')"
   ]
  },
  {
   "cell_type": "code",
   "execution_count": 71,
   "metadata": {},
   "outputs": [
    {
     "data": {
      "text/html": [
       "<div>\n",
       "<style scoped>\n",
       "    .dataframe tbody tr th:only-of-type {\n",
       "        vertical-align: middle;\n",
       "    }\n",
       "\n",
       "    .dataframe tbody tr th {\n",
       "        vertical-align: top;\n",
       "    }\n",
       "\n",
       "    .dataframe thead th {\n",
       "        text-align: right;\n",
       "    }\n",
       "</style>\n",
       "<table border=\"1\" class=\"dataframe\">\n",
       "  <thead>\n",
       "    <tr style=\"text-align: right;\">\n",
       "      <th></th>\n",
       "      <th>Age_Group</th>\n",
       "      <th>total_purchase_value</th>\n",
       "      <th>ave_purchase_price</th>\n",
       "      <th>total_purchase_count</th>\n",
       "      <th>unique_buyers</th>\n",
       "      <th>normed_mean</th>\n",
       "    </tr>\n",
       "  </thead>\n",
       "  <tbody>\n",
       "    <tr>\n",
       "      <th>0</th>\n",
       "      <td>&lt;10</td>\n",
       "      <td>83.46</td>\n",
       "      <td>2.980714</td>\n",
       "      <td>28</td>\n",
       "      <td>19</td>\n",
       "      <td>4.392632</td>\n",
       "    </tr>\n",
       "    <tr>\n",
       "      <th>1</th>\n",
       "      <td>10-14</td>\n",
       "      <td>96.95</td>\n",
       "      <td>2.770000</td>\n",
       "      <td>35</td>\n",
       "      <td>23</td>\n",
       "      <td>4.215217</td>\n",
       "    </tr>\n",
       "    <tr>\n",
       "      <th>2</th>\n",
       "      <td>15-19</td>\n",
       "      <td>386.42</td>\n",
       "      <td>2.905414</td>\n",
       "      <td>133</td>\n",
       "      <td>100</td>\n",
       "      <td>3.864200</td>\n",
       "    </tr>\n",
       "    <tr>\n",
       "      <th>3</th>\n",
       "      <td>20-24</td>\n",
       "      <td>978.77</td>\n",
       "      <td>2.913006</td>\n",
       "      <td>336</td>\n",
       "      <td>259</td>\n",
       "      <td>3.779035</td>\n",
       "    </tr>\n",
       "    <tr>\n",
       "      <th>4</th>\n",
       "      <td>25-29</td>\n",
       "      <td>370.33</td>\n",
       "      <td>2.962640</td>\n",
       "      <td>125</td>\n",
       "      <td>87</td>\n",
       "      <td>4.256667</td>\n",
       "    </tr>\n",
       "    <tr>\n",
       "      <th>5</th>\n",
       "      <td>30-34</td>\n",
       "      <td>197.25</td>\n",
       "      <td>3.082031</td>\n",
       "      <td>64</td>\n",
       "      <td>47</td>\n",
       "      <td>4.196809</td>\n",
       "    </tr>\n",
       "    <tr>\n",
       "      <th>6</th>\n",
       "      <td>35-39</td>\n",
       "      <td>119.40</td>\n",
       "      <td>2.842857</td>\n",
       "      <td>42</td>\n",
       "      <td>27</td>\n",
       "      <td>4.422222</td>\n",
       "    </tr>\n",
       "    <tr>\n",
       "      <th>7</th>\n",
       "      <td>40+</td>\n",
       "      <td>53.75</td>\n",
       "      <td>3.161765</td>\n",
       "      <td>17</td>\n",
       "      <td>11</td>\n",
       "      <td>4.886364</td>\n",
       "    </tr>\n",
       "  </tbody>\n",
       "</table>\n",
       "</div>"
      ],
      "text/plain": [
       "  Age_Group  total_purchase_value  ave_purchase_price  total_purchase_count  \\\n",
       "0       <10                 83.46            2.980714                    28   \n",
       "1     10-14                 96.95            2.770000                    35   \n",
       "2     15-19                386.42            2.905414                   133   \n",
       "3     20-24                978.77            2.913006                   336   \n",
       "4     25-29                370.33            2.962640                   125   \n",
       "5     30-34                197.25            3.082031                    64   \n",
       "6     35-39                119.40            2.842857                    42   \n",
       "7       40+                 53.75            3.161765                    17   \n",
       "\n",
       "  unique_buyers  normed_mean  \n",
       "0            19     4.392632  \n",
       "1            23     4.215217  \n",
       "2           100     3.864200  \n",
       "3           259     3.779035  \n",
       "4            87     4.256667  \n",
       "5            47     4.196809  \n",
       "6            27     4.422222  \n",
       "7            11     4.886364  "
      ]
     },
     "execution_count": 71,
     "metadata": {},
     "output_type": "execute_result"
    }
   ],
   "source": [
    "age_norm.rename(columns={'count': 'total_purchase_count', 'mean': 'ave_purchase_price','sum': 'total_purchase_value'})"
   ]
  },
  {
   "cell_type": "markdown",
   "metadata": {},
   "source": [
    "## Top Spenders"
   ]
  },
  {
   "cell_type": "code",
   "execution_count": 51,
   "metadata": {},
   "outputs": [
    {
     "data": {
      "image/png": "[encoded data removed]",
      "text/plain": [
       "<matplotlib.figure.Figure at 0x1a1815db70>"
      ]
     },
     "metadata": {},
     "output_type": "display_data"
    }
   ],
   "source": [
    "df['SN'].value_counts().head(15).plot.bar();"
   ]
  },
  {
   "cell_type": "markdown",
   "metadata": {},
   "source": [
    "**Since the value count is the same for the 2nd[1] item and the 6th[5] spenders, I included all of those spenders.**"
   ]
  },
  {
   "cell_type": "code",
   "execution_count": 52,
   "metadata": {},
   "outputs": [],
   "source": [
    "top_spenders = list(df['SN'].value_counts()[:6].to_dict().keys())"
   ]
  },
  {
   "cell_type": "code",
   "execution_count": 53,
   "metadata": {},
   "outputs": [],
   "source": [
    "mask_spend = df['SN'].isin(top_spenders)"
   ]
  },
  {
   "cell_type": "code",
   "execution_count": 54,
   "metadata": {},
   "outputs": [],
   "source": [
    "top_spenders_df = df[mask_spend]"
   ]
  },
  {
   "cell_type": "code",
   "execution_count": 55,
   "metadata": {},
   "outputs": [],
   "source": [
    "top_spender_purchase_analysis = top_spenders_df.groupby('SN').Price.agg(['count', 'mean', 'sum'])"
   ]
  },
  {
   "cell_type": "code",
   "execution_count": 56,
   "metadata": {},
   "outputs": [
    {
     "data": {
      "text/html": [
       "<div>\n",
       "<style scoped>\n",
       "    .dataframe tbody tr th:only-of-type {\n",
       "        vertical-align: middle;\n",
       "    }\n",
       "\n",
       "    .dataframe tbody tr th {\n",
       "        vertical-align: top;\n",
       "    }\n",
       "\n",
       "    .dataframe thead th {\n",
       "        text-align: right;\n",
       "    }\n",
       "</style>\n",
       "<table border=\"1\" class=\"dataframe\">\n",
       "  <thead>\n",
       "    <tr style=\"text-align: right;\">\n",
       "      <th></th>\n",
       "      <th>Purchase Count</th>\n",
       "      <th>Ave Purchase Price</th>\n",
       "      <th>Total Purchase Value</th>\n",
       "    </tr>\n",
       "    <tr>\n",
       "      <th>SN</th>\n",
       "      <th></th>\n",
       "      <th></th>\n",
       "      <th></th>\n",
       "    </tr>\n",
       "  </thead>\n",
       "  <tbody>\n",
       "    <tr>\n",
       "      <th>Hailaphos89</th>\n",
       "      <td>4</td>\n",
       "      <td>1.4675</td>\n",
       "      <td>5.87</td>\n",
       "    </tr>\n",
       "    <tr>\n",
       "      <th>Mindimnya67</th>\n",
       "      <td>4</td>\n",
       "      <td>3.1850</td>\n",
       "      <td>12.74</td>\n",
       "    </tr>\n",
       "    <tr>\n",
       "      <th>Qarwen67</th>\n",
       "      <td>4</td>\n",
       "      <td>2.4925</td>\n",
       "      <td>9.97</td>\n",
       "    </tr>\n",
       "    <tr>\n",
       "      <th>Saedue76</th>\n",
       "      <td>4</td>\n",
       "      <td>3.3900</td>\n",
       "      <td>13.56</td>\n",
       "    </tr>\n",
       "    <tr>\n",
       "      <th>Sondastan54</th>\n",
       "      <td>4</td>\n",
       "      <td>2.5600</td>\n",
       "      <td>10.24</td>\n",
       "    </tr>\n",
       "    <tr>\n",
       "      <th>Undirrala66</th>\n",
       "      <td>5</td>\n",
       "      <td>3.4120</td>\n",
       "      <td>17.06</td>\n",
       "    </tr>\n",
       "  </tbody>\n",
       "</table>\n",
       "</div>"
      ],
      "text/plain": [
       "             Purchase Count  Ave Purchase Price  Total Purchase Value\n",
       "SN                                                                   \n",
       "Hailaphos89               4              1.4675                  5.87\n",
       "Mindimnya67               4              3.1850                 12.74\n",
       "Qarwen67                  4              2.4925                  9.97\n",
       "Saedue76                  4              3.3900                 13.56\n",
       "Sondastan54               4              2.5600                 10.24\n",
       "Undirrala66               5              3.4120                 17.06"
      ]
     },
     "execution_count": 56,
     "metadata": {},
     "output_type": "execute_result"
    }
   ],
   "source": [
    "top_spender_purchase_analysis = top_spender_purchase_analysis.rename(columns={\\\n",
    "            'count': 'Purchase Count', 'mean': 'Ave Purchase Price','sum': 'Total Purchase Value'})\n",
    "top_spender_purchase_analysis"
   ]
  },
  {
   "cell_type": "markdown",
   "metadata": {},
   "source": [
    "## Most Popular Items"
   ]
  },
  {
   "cell_type": "code",
   "execution_count": 57,
   "metadata": {},
   "outputs": [
    {
     "data": {
      "image/png": "[encoded data removed]",
      "text/plain": [
       "<matplotlib.figure.Figure at 0x10ca406a0>"
      ]
     },
     "metadata": {},
     "output_type": "display_data"
    }
   ],
   "source": [
    "df['Item Name'].value_counts().head(15).plot.bar();"
   ]
  },
  {
   "cell_type": "markdown",
   "metadata": {},
   "source": [
    "**Since the value count is the same for the 5th item and the 8th items, I included those in top items.**"
   ]
  },
  {
   "cell_type": "code",
   "execution_count": 58,
   "metadata": {},
   "outputs": [],
   "source": [
    "top_items = list(df['Item Name'].value_counts()[:8].to_dict().keys())\n"
   ]
  },
  {
   "cell_type": "code",
   "execution_count": 59,
   "metadata": {},
   "outputs": [
    {
     "data": {
      "text/plain": [
       "['Final Critic',\n",
       " 'Arcane Gem',\n",
       " 'Betrayal, Whisper of Grieving Widows',\n",
       " 'Stormcaller',\n",
       " 'Serenity',\n",
       " 'Woeful Adamantite Claymore',\n",
       " 'Retribution Axe',\n",
       " 'Trickster']"
      ]
     },
     "execution_count": 59,
     "metadata": {},
     "output_type": "execute_result"
    }
   ],
   "source": [
    "top_items"
   ]
  },
  {
   "cell_type": "code",
   "execution_count": 60,
   "metadata": {},
   "outputs": [],
   "source": [
    "mask = df['Item Name'].isin(top_items)"
   ]
  },
  {
   "cell_type": "code",
   "execution_count": 61,
   "metadata": {},
   "outputs": [],
   "source": [
    "top_items_df = df[mask]"
   ]
  },
  {
   "cell_type": "code",
   "execution_count": 62,
   "metadata": {},
   "outputs": [
    {
     "data": {
      "text/html": [
       "<div>\n",
       "<style scoped>\n",
       "    .dataframe tbody tr th:only-of-type {\n",
       "        vertical-align: middle;\n",
       "    }\n",
       "\n",
       "    .dataframe tbody tr th {\n",
       "        vertical-align: top;\n",
       "    }\n",
       "\n",
       "    .dataframe thead th {\n",
       "        text-align: right;\n",
       "    }\n",
       "</style>\n",
       "<table border=\"1\" class=\"dataframe\">\n",
       "  <thead>\n",
       "    <tr style=\"text-align: right;\">\n",
       "      <th></th>\n",
       "      <th>Age</th>\n",
       "      <th>Gender</th>\n",
       "      <th>Item ID</th>\n",
       "      <th>Item Name</th>\n",
       "      <th>Price</th>\n",
       "      <th>SN</th>\n",
       "      <th>Age_Group</th>\n",
       "    </tr>\n",
       "  </thead>\n",
       "  <tbody>\n",
       "    <tr>\n",
       "      <th>171</th>\n",
       "      <td>21</td>\n",
       "      <td>Male</td>\n",
       "      <td>84</td>\n",
       "      <td>Arcane Gem</td>\n",
       "      <td>2.23</td>\n",
       "      <td>Stryanastip77</td>\n",
       "      <td>20-24</td>\n",
       "    </tr>\n",
       "    <tr>\n",
       "      <th>742</th>\n",
       "      <td>26</td>\n",
       "      <td>Male</td>\n",
       "      <td>84</td>\n",
       "      <td>Arcane Gem</td>\n",
       "      <td>2.23</td>\n",
       "      <td>Inguron55</td>\n",
       "      <td>25-29</td>\n",
       "    </tr>\n",
       "    <tr>\n",
       "      <th>354</th>\n",
       "      <td>20</td>\n",
       "      <td>Male</td>\n",
       "      <td>84</td>\n",
       "      <td>Arcane Gem</td>\n",
       "      <td>2.23</td>\n",
       "      <td>Mindirra92</td>\n",
       "      <td>20-24</td>\n",
       "    </tr>\n",
       "    <tr>\n",
       "      <th>338</th>\n",
       "      <td>17</td>\n",
       "      <td>Male</td>\n",
       "      <td>84</td>\n",
       "      <td>Arcane Gem</td>\n",
       "      <td>2.23</td>\n",
       "      <td>Lisossanya98</td>\n",
       "      <td>15-19</td>\n",
       "    </tr>\n",
       "    <tr>\n",
       "      <th>416</th>\n",
       "      <td>25</td>\n",
       "      <td>Male</td>\n",
       "      <td>84</td>\n",
       "      <td>Arcane Gem</td>\n",
       "      <td>2.23</td>\n",
       "      <td>Hiarideu73</td>\n",
       "      <td>25-29</td>\n",
       "    </tr>\n",
       "  </tbody>\n",
       "</table>\n",
       "</div>"
      ],
      "text/plain": [
       "     Age Gender  Item ID   Item Name  Price             SN Age_Group\n",
       "171   21   Male       84  Arcane Gem   2.23  Stryanastip77     20-24\n",
       "742   26   Male       84  Arcane Gem   2.23      Inguron55     25-29\n",
       "354   20   Male       84  Arcane Gem   2.23     Mindirra92     20-24\n",
       "338   17   Male       84  Arcane Gem   2.23   Lisossanya98     15-19\n",
       "416   25   Male       84  Arcane Gem   2.23     Hiarideu73     25-29"
      ]
     },
     "execution_count": 62,
     "metadata": {},
     "output_type": "execute_result"
    }
   ],
   "source": [
    "top_items_df.sort_values(['Item Name']).head()"
   ]
  },
  {
   "cell_type": "code",
   "execution_count": 63,
   "metadata": {},
   "outputs": [],
   "source": [
    "item_purchase_analysis = top_items_df.groupby('Item Name').Price.agg(['count', 'mean', 'sum']).sort_values\\\n",
    "    (by='count', ascending=False)"
   ]
  },
  {
   "cell_type": "code",
   "execution_count": 64,
   "metadata": {},
   "outputs": [
    {
     "data": {
      "text/html": [
       "<div>\n",
       "<style scoped>\n",
       "    .dataframe tbody tr th:only-of-type {\n",
       "        vertical-align: middle;\n",
       "    }\n",
       "\n",
       "    .dataframe tbody tr th {\n",
       "        vertical-align: top;\n",
       "    }\n",
       "\n",
       "    .dataframe thead th {\n",
       "        text-align: right;\n",
       "    }\n",
       "</style>\n",
       "<table border=\"1\" class=\"dataframe\">\n",
       "  <thead>\n",
       "    <tr style=\"text-align: right;\">\n",
       "      <th></th>\n",
       "      <th>Purchase Count</th>\n",
       "      <th>Ave Purchase Price</th>\n",
       "      <th>Total Purchase Value</th>\n",
       "    </tr>\n",
       "    <tr>\n",
       "      <th>Item Name</th>\n",
       "      <th></th>\n",
       "      <th></th>\n",
       "      <th></th>\n",
       "    </tr>\n",
       "  </thead>\n",
       "  <tbody>\n",
       "    <tr>\n",
       "      <th>Final Critic</th>\n",
       "      <td>14</td>\n",
       "      <td>2.757143</td>\n",
       "      <td>38.60</td>\n",
       "    </tr>\n",
       "    <tr>\n",
       "      <th>Arcane Gem</th>\n",
       "      <td>11</td>\n",
       "      <td>2.230000</td>\n",
       "      <td>24.53</td>\n",
       "    </tr>\n",
       "    <tr>\n",
       "      <th>Betrayal, Whisper of Grieving Widows</th>\n",
       "      <td>11</td>\n",
       "      <td>2.350000</td>\n",
       "      <td>25.85</td>\n",
       "    </tr>\n",
       "    <tr>\n",
       "      <th>Stormcaller</th>\n",
       "      <td>10</td>\n",
       "      <td>3.465000</td>\n",
       "      <td>34.65</td>\n",
       "    </tr>\n",
       "    <tr>\n",
       "      <th>Retribution Axe</th>\n",
       "      <td>9</td>\n",
       "      <td>4.140000</td>\n",
       "      <td>37.26</td>\n",
       "    </tr>\n",
       "    <tr>\n",
       "      <th>Serenity</th>\n",
       "      <td>9</td>\n",
       "      <td>1.490000</td>\n",
       "      <td>13.41</td>\n",
       "    </tr>\n",
       "    <tr>\n",
       "      <th>Trickster</th>\n",
       "      <td>9</td>\n",
       "      <td>2.070000</td>\n",
       "      <td>18.63</td>\n",
       "    </tr>\n",
       "    <tr>\n",
       "      <th>Woeful Adamantite Claymore</th>\n",
       "      <td>9</td>\n",
       "      <td>1.240000</td>\n",
       "      <td>11.16</td>\n",
       "    </tr>\n",
       "  </tbody>\n",
       "</table>\n",
       "</div>"
      ],
      "text/plain": [
       "                                      Purchase Count  Ave Purchase Price  \\\n",
       "Item Name                                                                  \n",
       "Final Critic                                      14            2.757143   \n",
       "Arcane Gem                                        11            2.230000   \n",
       "Betrayal, Whisper of Grieving Widows              11            2.350000   \n",
       "Stormcaller                                       10            3.465000   \n",
       "Retribution Axe                                    9            4.140000   \n",
       "Serenity                                           9            1.490000   \n",
       "Trickster                                          9            2.070000   \n",
       "Woeful Adamantite Claymore                         9            1.240000   \n",
       "\n",
       "                                      Total Purchase Value  \n",
       "Item Name                                                   \n",
       "Final Critic                                         38.60  \n",
       "Arcane Gem                                           24.53  \n",
       "Betrayal, Whisper of Grieving Widows                 25.85  \n",
       "Stormcaller                                          34.65  \n",
       "Retribution Axe                                      37.26  \n",
       "Serenity                                             13.41  \n",
       "Trickster                                            18.63  \n",
       "Woeful Adamantite Claymore                           11.16  "
      ]
     },
     "execution_count": 64,
     "metadata": {},
     "output_type": "execute_result"
    }
   ],
   "source": [
    "item_purchase_analysis = item_purchase_analysis.rename(columns={\\\n",
    "            'count': 'Purchase Count', 'mean': 'Ave Purchase Price','sum': 'Total Purchase Value'})\n",
    "item_purchase_analysis\n",
    "#sort by purchase count"
   ]
  },
  {
   "cell_type": "markdown",
   "metadata": {},
   "source": [
    "## Most Profitable Items"
   ]
  },
  {
   "cell_type": "code",
   "execution_count": 81,
   "metadata": {},
   "outputs": [],
   "source": [
    "most_profitable = df.groupby(['Item Name', 'Item ID', 'Price'])['Price'].agg(['sum', 'count']).\\\n",
    "  sort_values(by='sum', ascending=False)"
   ]
  },
  {
   "cell_type": "code",
   "execution_count": 82,
   "metadata": {},
   "outputs": [
    {
     "data": {
      "text/html": [
       "<div>\n",
       "<style scoped>\n",
       "    .dataframe tbody tr th:only-of-type {\n",
       "        vertical-align: middle;\n",
       "    }\n",
       "\n",
       "    .dataframe tbody tr th {\n",
       "        vertical-align: top;\n",
       "    }\n",
       "\n",
       "    .dataframe thead th {\n",
       "        text-align: right;\n",
       "    }\n",
       "</style>\n",
       "<table border=\"1\" class=\"dataframe\">\n",
       "  <thead>\n",
       "    <tr style=\"text-align: right;\">\n",
       "      <th></th>\n",
       "      <th></th>\n",
       "      <th>sum</th>\n",
       "      <th>count</th>\n",
       "    </tr>\n",
       "    <tr>\n",
       "      <th>Item ID</th>\n",
       "      <th>Price</th>\n",
       "      <th></th>\n",
       "      <th></th>\n",
       "    </tr>\n",
       "  </thead>\n",
       "  <tbody>\n",
       "    <tr>\n",
       "      <th>30</th>\n",
       "      <th>4.15</th>\n",
       "      <td>20.75</td>\n",
       "      <td>5</td>\n",
       "    </tr>\n",
       "    <tr>\n",
       "      <th>180</th>\n",
       "      <th>2.78</th>\n",
       "      <td>13.90</td>\n",
       "      <td>5</td>\n",
       "    </tr>\n",
       "  </tbody>\n",
       "</table>\n",
       "</div>"
      ],
      "text/plain": [
       "                 sum  count\n",
       "Item ID Price              \n",
       "30      4.15   20.75      5\n",
       "180     2.78   13.90      5"
      ]
     },
     "execution_count": 82,
     "metadata": {},
     "output_type": "execute_result"
    }
   ],
   "source": [
    "most_profitable.loc['Stormcaller']"
   ]
  },
  {
   "cell_type": "code",
   "execution_count": 77,
   "metadata": {},
   "outputs": [
    {
     "data": {
      "text/html": [
       "<div>\n",
       "<style scoped>\n",
       "    .dataframe tbody tr th:only-of-type {\n",
       "        vertical-align: middle;\n",
       "    }\n",
       "\n",
       "    .dataframe tbody tr th {\n",
       "        vertical-align: top;\n",
       "    }\n",
       "\n",
       "    .dataframe thead th {\n",
       "        text-align: right;\n",
       "    }\n",
       "</style>\n",
       "<table border=\"1\" class=\"dataframe\">\n",
       "  <thead>\n",
       "    <tr style=\"text-align: right;\">\n",
       "      <th></th>\n",
       "      <th></th>\n",
       "      <th>Total Purchase Value</th>\n",
       "      <th>Purchase Count</th>\n",
       "    </tr>\n",
       "    <tr>\n",
       "      <th>Item ID</th>\n",
       "      <th>Price</th>\n",
       "      <th></th>\n",
       "      <th></th>\n",
       "    </tr>\n",
       "  </thead>\n",
       "  <tbody>\n",
       "    <tr>\n",
       "      <th>101</th>\n",
       "      <th>4.62</th>\n",
       "      <td>27.72</td>\n",
       "      <td>6</td>\n",
       "    </tr>\n",
       "    <tr>\n",
       "      <th>92</th>\n",
       "      <th>1.36</th>\n",
       "      <td>10.88</td>\n",
       "      <td>8</td>\n",
       "    </tr>\n",
       "  </tbody>\n",
       "</table>\n",
       "</div>"
      ],
      "text/plain": [
       "               Total Purchase Value  Purchase Count\n",
       "Item ID Price                                      \n",
       "101     4.62                  27.72               6\n",
       "92      1.36                  10.88               8"
      ]
     },
     "execution_count": 77,
     "metadata": {},
     "output_type": "execute_result"
    }
   ],
   "source": [
    "most_profitable.loc['Final Critic']"
   ]
  },
  {
   "cell_type": "code",
   "execution_count": 74,
   "metadata": {},
   "outputs": [
    {
     "data": {
      "text/html": [
       "<div>\n",
       "<style scoped>\n",
       "    .dataframe tbody tr th:only-of-type {\n",
       "        vertical-align: middle;\n",
       "    }\n",
       "\n",
       "    .dataframe tbody tr th {\n",
       "        vertical-align: top;\n",
       "    }\n",
       "\n",
       "    .dataframe thead th {\n",
       "        text-align: right;\n",
       "    }\n",
       "</style>\n",
       "<table border=\"1\" class=\"dataframe\">\n",
       "  <thead>\n",
       "    <tr style=\"text-align: right;\">\n",
       "      <th></th>\n",
       "      <th></th>\n",
       "      <th></th>\n",
       "      <th>Total Purchase Value</th>\n",
       "      <th>Purchase Count</th>\n",
       "    </tr>\n",
       "    <tr>\n",
       "      <th>Item Name</th>\n",
       "      <th>Item ID</th>\n",
       "      <th>Price</th>\n",
       "      <th></th>\n",
       "      <th></th>\n",
       "    </tr>\n",
       "  </thead>\n",
       "  <tbody>\n",
       "    <tr>\n",
       "      <th>Retribution Axe</th>\n",
       "      <th>34</th>\n",
       "      <th>4.14</th>\n",
       "      <td>37.26</td>\n",
       "      <td>9</td>\n",
       "    </tr>\n",
       "    <tr>\n",
       "      <th>Spectral Diamond Doomblade</th>\n",
       "      <th>115</th>\n",
       "      <th>4.25</th>\n",
       "      <td>29.75</td>\n",
       "      <td>7</td>\n",
       "    </tr>\n",
       "    <tr>\n",
       "      <th>Orenmir</th>\n",
       "      <th>32</th>\n",
       "      <th>4.95</th>\n",
       "      <td>29.70</td>\n",
       "      <td>6</td>\n",
       "    </tr>\n",
       "    <tr>\n",
       "      <th>Singed Scalpel</th>\n",
       "      <th>103</th>\n",
       "      <th>4.87</th>\n",
       "      <td>29.22</td>\n",
       "      <td>6</td>\n",
       "    </tr>\n",
       "    <tr>\n",
       "      <th>Splitter, Foe Of Subtlety</th>\n",
       "      <th>107</th>\n",
       "      <th>3.61</th>\n",
       "      <td>28.88</td>\n",
       "      <td>8</td>\n",
       "    </tr>\n",
       "    <tr>\n",
       "      <th>Final Critic</th>\n",
       "      <th>101</th>\n",
       "      <th>4.62</th>\n",
       "      <td>27.72</td>\n",
       "      <td>6</td>\n",
       "    </tr>\n",
       "    <tr>\n",
       "      <th>Thorn, Satchel of Dark Souls</th>\n",
       "      <th>7</th>\n",
       "      <th>4.51</th>\n",
       "      <td>27.06</td>\n",
       "      <td>6</td>\n",
       "    </tr>\n",
       "    <tr>\n",
       "      <th>Fiery Glass Crusader</th>\n",
       "      <th>145</th>\n",
       "      <th>4.45</th>\n",
       "      <td>26.70</td>\n",
       "      <td>6</td>\n",
       "    </tr>\n",
       "    <tr>\n",
       "      <th>Betrayal, Whisper of Grieving Widows</th>\n",
       "      <th>39</th>\n",
       "      <th>2.35</th>\n",
       "      <td>25.85</td>\n",
       "      <td>11</td>\n",
       "    </tr>\n",
       "    <tr>\n",
       "      <th>Darkheart</th>\n",
       "      <th>152</th>\n",
       "      <th>3.15</th>\n",
       "      <td>25.20</td>\n",
       "      <td>8</td>\n",
       "    </tr>\n",
       "    <tr>\n",
       "      <th>Avenger</th>\n",
       "      <th>102</th>\n",
       "      <th>4.16</th>\n",
       "      <td>24.96</td>\n",
       "      <td>6</td>\n",
       "    </tr>\n",
       "    <tr>\n",
       "      <th>Darkheart, Butcher of the Champion</th>\n",
       "      <th>158</th>\n",
       "      <th>3.56</th>\n",
       "      <td>24.92</td>\n",
       "      <td>7</td>\n",
       "    </tr>\n",
       "    <tr>\n",
       "      <th>Victor Iron Spikes</th>\n",
       "      <th>66</th>\n",
       "      <th>3.55</th>\n",
       "      <td>24.85</td>\n",
       "      <td>7</td>\n",
       "    </tr>\n",
       "    <tr>\n",
       "      <th>Arcane Gem</th>\n",
       "      <th>84</th>\n",
       "      <th>2.23</th>\n",
       "      <td>24.53</td>\n",
       "      <td>11</td>\n",
       "    </tr>\n",
       "    <tr>\n",
       "      <th>Stormfury Longsword</th>\n",
       "      <th>173</th>\n",
       "      <th>4.83</th>\n",
       "      <td>24.15</td>\n",
       "      <td>5</td>\n",
       "    </tr>\n",
       "    <tr>\n",
       "      <th>Blazeguard, Reach of Eternity</th>\n",
       "      <th>128</th>\n",
       "      <th>4.00</th>\n",
       "      <td>24.00</td>\n",
       "      <td>6</td>\n",
       "    </tr>\n",
       "    <tr>\n",
       "      <th>Warmonger, Gift of Suffering's End</th>\n",
       "      <th>148</th>\n",
       "      <th>3.96</th>\n",
       "      <td>23.76</td>\n",
       "      <td>6</td>\n",
       "    </tr>\n",
       "    <tr>\n",
       "      <th>Hopeless Ebon Dualblade</th>\n",
       "      <th>46</th>\n",
       "      <th>4.75</th>\n",
       "      <td>23.75</td>\n",
       "      <td>5</td>\n",
       "    </tr>\n",
       "    <tr>\n",
       "      <th>Extraction, Quickblade Of Trembling Hands</th>\n",
       "      <th>108</th>\n",
       "      <th>3.39</th>\n",
       "      <td>23.73</td>\n",
       "      <td>7</td>\n",
       "    </tr>\n",
       "    <tr>\n",
       "      <th>Purgatory, Gem of Regret</th>\n",
       "      <th>8</th>\n",
       "      <th>3.91</th>\n",
       "      <td>23.46</td>\n",
       "      <td>6</td>\n",
       "    </tr>\n",
       "    <tr>\n",
       "      <th>Mercenary Sabre</th>\n",
       "      <th>153</th>\n",
       "      <th>4.57</th>\n",
       "      <td>22.85</td>\n",
       "      <td>5</td>\n",
       "    </tr>\n",
       "    <tr>\n",
       "      <th>Ritual Mace</th>\n",
       "      <th>73</th>\n",
       "      <th>3.74</th>\n",
       "      <td>22.44</td>\n",
       "      <td>6</td>\n",
       "    </tr>\n",
       "    <tr>\n",
       "      <th>Celeste</th>\n",
       "      <th>91</th>\n",
       "      <th>3.71</th>\n",
       "      <td>22.26</td>\n",
       "      <td>6</td>\n",
       "    </tr>\n",
       "    <tr>\n",
       "      <th>Rage, Legacy of the Lone Victor</th>\n",
       "      <th>48</th>\n",
       "      <th>4.32</th>\n",
       "      <td>21.60</td>\n",
       "      <td>5</td>\n",
       "    </tr>\n",
       "    <tr>\n",
       "      <th>Dawne</th>\n",
       "      <th>12</th>\n",
       "      <th>4.30</th>\n",
       "      <td>21.50</td>\n",
       "      <td>5</td>\n",
       "    </tr>\n",
       "    <tr>\n",
       "      <th>Amnesia</th>\n",
       "      <th>22</th>\n",
       "      <th>3.57</th>\n",
       "      <td>21.42</td>\n",
       "      <td>6</td>\n",
       "    </tr>\n",
       "    <tr>\n",
       "      <th>The Oculus, Token of Lost Worlds</th>\n",
       "      <th>49</th>\n",
       "      <th>4.23</th>\n",
       "      <td>21.15</td>\n",
       "      <td>5</td>\n",
       "    </tr>\n",
       "    <tr>\n",
       "      <th>Stormcaller</th>\n",
       "      <th>30</th>\n",
       "      <th>4.15</th>\n",
       "      <td>20.75</td>\n",
       "      <td>5</td>\n",
       "    </tr>\n",
       "    <tr>\n",
       "      <th>Massacre</th>\n",
       "      <th>121</th>\n",
       "      <th>3.42</th>\n",
       "      <td>20.52</td>\n",
       "      <td>6</td>\n",
       "    </tr>\n",
       "    <tr>\n",
       "      <th>Dreamkiss</th>\n",
       "      <th>81</th>\n",
       "      <th>4.06</th>\n",
       "      <td>20.30</td>\n",
       "      <td>5</td>\n",
       "    </tr>\n",
       "    <tr>\n",
       "      <th>...</th>\n",
       "      <th>...</th>\n",
       "      <th>...</th>\n",
       "      <td>...</td>\n",
       "      <td>...</td>\n",
       "    </tr>\n",
       "    <tr>\n",
       "      <th>Tranquility, Razor of Black Magic</th>\n",
       "      <th>149</th>\n",
       "      <th>2.47</th>\n",
       "      <td>4.94</td>\n",
       "      <td>2</td>\n",
       "    </tr>\n",
       "    <tr>\n",
       "      <th>Oathbreaker, Last Hope of the Breaking Storm</th>\n",
       "      <th>178</th>\n",
       "      <th>2.41</th>\n",
       "      <td>4.82</td>\n",
       "      <td>2</td>\n",
       "    </tr>\n",
       "    <tr>\n",
       "      <th>Warped Fetish</th>\n",
       "      <th>24</th>\n",
       "      <th>2.41</th>\n",
       "      <td>4.82</td>\n",
       "      <td>2</td>\n",
       "    </tr>\n",
       "    <tr>\n",
       "      <th>Malice, Legacy of the Queen</th>\n",
       "      <th>167</th>\n",
       "      <th>2.38</th>\n",
       "      <td>4.76</td>\n",
       "      <td>2</td>\n",
       "    </tr>\n",
       "    <tr>\n",
       "      <th>Renewed Skeletal Katana</th>\n",
       "      <th>116</th>\n",
       "      <th>2.37</th>\n",
       "      <td>4.74</td>\n",
       "      <td>2</td>\n",
       "    </tr>\n",
       "    <tr>\n",
       "      <th>Nirvana</th>\n",
       "      <th>82</th>\n",
       "      <th>1.11</th>\n",
       "      <td>4.44</td>\n",
       "      <td>4</td>\n",
       "    </tr>\n",
       "    <tr>\n",
       "      <th>Hero Cane</th>\n",
       "      <th>25</th>\n",
       "      <th>1.03</th>\n",
       "      <td>4.12</td>\n",
       "      <td>4</td>\n",
       "    </tr>\n",
       "    <tr>\n",
       "      <th>Thorn, Conqueror of the Corrupted</th>\n",
       "      <th>9</th>\n",
       "      <th>2.04</th>\n",
       "      <td>4.08</td>\n",
       "      <td>2</td>\n",
       "    </tr>\n",
       "    <tr>\n",
       "      <th>Putrid Fan</th>\n",
       "      <th>5</th>\n",
       "      <th>1.32</th>\n",
       "      <td>3.96</td>\n",
       "      <td>3</td>\n",
       "    </tr>\n",
       "    <tr>\n",
       "      <th>Unending Tyranny</th>\n",
       "      <th>122</th>\n",
       "      <th>1.21</th>\n",
       "      <td>3.63</td>\n",
       "      <td>3</td>\n",
       "    </tr>\n",
       "    <tr>\n",
       "      <th>Rusty Skull</th>\n",
       "      <th>6</th>\n",
       "      <th>1.20</th>\n",
       "      <td>3.60</td>\n",
       "      <td>3</td>\n",
       "    </tr>\n",
       "    <tr>\n",
       "      <th>Hellreaver, Heirloom of Inception</th>\n",
       "      <th>147</th>\n",
       "      <th>3.59</th>\n",
       "      <td>3.59</td>\n",
       "      <td>1</td>\n",
       "    </tr>\n",
       "    <tr>\n",
       "      <th>Orbit</th>\n",
       "      <th>41</th>\n",
       "      <th>1.16</th>\n",
       "      <td>3.48</td>\n",
       "      <td>3</td>\n",
       "    </tr>\n",
       "    <tr>\n",
       "      <th>Verdict</th>\n",
       "      <th>2</th>\n",
       "      <th>3.40</th>\n",
       "      <td>3.40</td>\n",
       "      <td>1</td>\n",
       "    </tr>\n",
       "    <tr>\n",
       "      <th>Ghastly Adamantite Protector</th>\n",
       "      <th>136</th>\n",
       "      <th>3.30</th>\n",
       "      <td>3.30</td>\n",
       "      <td>1</td>\n",
       "    </tr>\n",
       "    <tr>\n",
       "      <th>Exiled Mithril Longsword</th>\n",
       "      <th>126</th>\n",
       "      <th>3.25</th>\n",
       "      <td>3.25</td>\n",
       "      <td>1</td>\n",
       "    </tr>\n",
       "    <tr>\n",
       "      <th>Downfall, Scalpel Of The Emperor</th>\n",
       "      <th>109</th>\n",
       "      <th>3.20</th>\n",
       "      <td>3.20</td>\n",
       "      <td>1</td>\n",
       "    </tr>\n",
       "    <tr>\n",
       "      <th>Frenzy, Defender of the Harvest</th>\n",
       "      <th>69</th>\n",
       "      <th>1.06</th>\n",
       "      <td>3.18</td>\n",
       "      <td>3</td>\n",
       "    </tr>\n",
       "    <tr>\n",
       "      <th>Flux, Destroyer of Due Diligence</th>\n",
       "      <th>28</th>\n",
       "      <th>3.04</th>\n",
       "      <td>3.04</td>\n",
       "      <td>1</td>\n",
       "    </tr>\n",
       "    <tr>\n",
       "      <th>Blazefury, Protector of Delusions</th>\n",
       "      <th>89</th>\n",
       "      <th>1.50</th>\n",
       "      <td>3.00</td>\n",
       "      <td>2</td>\n",
       "    </tr>\n",
       "    <tr>\n",
       "      <th>Winter's Bite</th>\n",
       "      <th>72</th>\n",
       "      <th>1.39</th>\n",
       "      <td>2.78</td>\n",
       "      <td>2</td>\n",
       "    </tr>\n",
       "    <tr>\n",
       "      <th>Sun Strike, Jaws of Twisted Visions</th>\n",
       "      <th>168</th>\n",
       "      <th>2.64</th>\n",
       "      <td>2.64</td>\n",
       "      <td>1</td>\n",
       "    </tr>\n",
       "    <tr>\n",
       "      <th>Foul Edge</th>\n",
       "      <th>43</th>\n",
       "      <th>2.38</th>\n",
       "      <td>2.38</td>\n",
       "      <td>1</td>\n",
       "    </tr>\n",
       "    <tr>\n",
       "      <th>Bloodlord's Fetish</th>\n",
       "      <th>4</th>\n",
       "      <th>2.28</th>\n",
       "      <td>2.28</td>\n",
       "      <td>1</td>\n",
       "    </tr>\n",
       "    <tr>\n",
       "      <th>Yearning Crusher</th>\n",
       "      <th>74</th>\n",
       "      <th>1.06</th>\n",
       "      <td>2.12</td>\n",
       "      <td>2</td>\n",
       "    </tr>\n",
       "    <tr>\n",
       "      <th>Exiled Doomblade</th>\n",
       "      <th>164</th>\n",
       "      <th>1.92</th>\n",
       "      <td>1.92</td>\n",
       "      <td>1</td>\n",
       "    </tr>\n",
       "    <tr>\n",
       "      <th>Splinter</th>\n",
       "      <th>0</th>\n",
       "      <th>1.82</th>\n",
       "      <td>1.82</td>\n",
       "      <td>1</td>\n",
       "    </tr>\n",
       "    <tr>\n",
       "      <th>Phantomlight</th>\n",
       "      <th>3</th>\n",
       "      <th>1.79</th>\n",
       "      <td>1.79</td>\n",
       "      <td>1</td>\n",
       "    </tr>\n",
       "    <tr>\n",
       "      <th>Lightning, Etcher of the King</th>\n",
       "      <th>59</th>\n",
       "      <th>1.65</th>\n",
       "      <td>1.65</td>\n",
       "      <td>1</td>\n",
       "    </tr>\n",
       "    <tr>\n",
       "      <th>Soul-Forged Steel Shortsword</th>\n",
       "      <th>156</th>\n",
       "      <th>1.16</th>\n",
       "      <td>1.16</td>\n",
       "      <td>1</td>\n",
       "    </tr>\n",
       "  </tbody>\n",
       "</table>\n",
       "<p>183 rows × 2 columns</p>\n",
       "</div>"
      ],
      "text/plain": [
       "                                                            Total Purchase Value  \\\n",
       "Item Name                                    Item ID Price                         \n",
       "Retribution Axe                              34      4.14                  37.26   \n",
       "Spectral Diamond Doomblade                   115     4.25                  29.75   \n",
       "Orenmir                                      32      4.95                  29.70   \n",
       "Singed Scalpel                               103     4.87                  29.22   \n",
       "Splitter, Foe Of Subtlety                    107     3.61                  28.88   \n",
       "Final Critic                                 101     4.62                  27.72   \n",
       "Thorn, Satchel of Dark Souls                 7       4.51                  27.06   \n",
       "Fiery Glass Crusader                         145     4.45                  26.70   \n",
       "Betrayal, Whisper of Grieving Widows         39      2.35                  25.85   \n",
       "Darkheart                                    152     3.15                  25.20   \n",
       "Avenger                                      102     4.16                  24.96   \n",
       "Darkheart, Butcher of the Champion           158     3.56                  24.92   \n",
       "Victor Iron Spikes                           66      3.55                  24.85   \n",
       "Arcane Gem                                   84      2.23                  24.53   \n",
       "Stormfury Longsword                          173     4.83                  24.15   \n",
       "Blazeguard, Reach of Eternity                128     4.00                  24.00   \n",
       "Warmonger, Gift of Suffering's End           148     3.96                  23.76   \n",
       "Hopeless Ebon Dualblade                      46      4.75                  23.75   \n",
       "Extraction, Quickblade Of Trembling Hands    108     3.39                  23.73   \n",
       "Purgatory, Gem of Regret                     8       3.91                  23.46   \n",
       "Mercenary Sabre                              153     4.57                  22.85   \n",
       "Ritual Mace                                  73      3.74                  22.44   \n",
       "Celeste                                      91      3.71                  22.26   \n",
       "Rage, Legacy of the Lone Victor              48      4.32                  21.60   \n",
       "Dawne                                        12      4.30                  21.50   \n",
       "Amnesia                                      22      3.57                  21.42   \n",
       "The Oculus, Token of Lost Worlds             49      4.23                  21.15   \n",
       "Stormcaller                                  30      4.15                  20.75   \n",
       "Massacre                                     121     3.42                  20.52   \n",
       "Dreamkiss                                    81      4.06                  20.30   \n",
       "...                                                                          ...   \n",
       "Tranquility, Razor of Black Magic            149     2.47                   4.94   \n",
       "Oathbreaker, Last Hope of the Breaking Storm 178     2.41                   4.82   \n",
       "Warped Fetish                                24      2.41                   4.82   \n",
       "Malice, Legacy of the Queen                  167     2.38                   4.76   \n",
       "Renewed Skeletal Katana                      116     2.37                   4.74   \n",
       "Nirvana                                      82      1.11                   4.44   \n",
       "Hero Cane                                    25      1.03                   4.12   \n",
       "Thorn, Conqueror of the Corrupted            9       2.04                   4.08   \n",
       "Putrid Fan                                   5       1.32                   3.96   \n",
       "Unending Tyranny                             122     1.21                   3.63   \n",
       "Rusty Skull                                  6       1.20                   3.60   \n",
       "Hellreaver, Heirloom of Inception            147     3.59                   3.59   \n",
       "Orbit                                        41      1.16                   3.48   \n",
       "Verdict                                      2       3.40                   3.40   \n",
       "Ghastly Adamantite Protector                 136     3.30                   3.30   \n",
       "Exiled Mithril Longsword                     126     3.25                   3.25   \n",
       "Downfall, Scalpel Of The Emperor             109     3.20                   3.20   \n",
       "Frenzy, Defender of the Harvest              69      1.06                   3.18   \n",
       "Flux, Destroyer of Due Diligence             28      3.04                   3.04   \n",
       "Blazefury, Protector of Delusions            89      1.50                   3.00   \n",
       "Winter's Bite                                72      1.39                   2.78   \n",
       "Sun Strike, Jaws of Twisted Visions          168     2.64                   2.64   \n",
       "Foul Edge                                    43      2.38                   2.38   \n",
       "Bloodlord's Fetish                           4       2.28                   2.28   \n",
       "Yearning Crusher                             74      1.06                   2.12   \n",
       "Exiled Doomblade                             164     1.92                   1.92   \n",
       "Splinter                                     0       1.82                   1.82   \n",
       "Phantomlight                                 3       1.79                   1.79   \n",
       "Lightning, Etcher of the King                59      1.65                   1.65   \n",
       "Soul-Forged Steel Shortsword                 156     1.16                   1.16   \n",
       "\n",
       "                                                            Purchase Count  \n",
       "Item Name                                    Item ID Price                  \n",
       "Retribution Axe                              34      4.14                9  \n",
       "Spectral Diamond Doomblade                   115     4.25                7  \n",
       "Orenmir                                      32      4.95                6  \n",
       "Singed Scalpel                               103     4.87                6  \n",
       "Splitter, Foe Of Subtlety                    107     3.61                8  \n",
       "Final Critic                                 101     4.62                6  \n",
       "Thorn, Satchel of Dark Souls                 7       4.51                6  \n",
       "Fiery Glass Crusader                         145     4.45                6  \n",
       "Betrayal, Whisper of Grieving Widows         39      2.35               11  \n",
       "Darkheart                                    152     3.15                8  \n",
       "Avenger                                      102     4.16                6  \n",
       "Darkheart, Butcher of the Champion           158     3.56                7  \n",
       "Victor Iron Spikes                           66      3.55                7  \n",
       "Arcane Gem                                   84      2.23               11  \n",
       "Stormfury Longsword                          173     4.83                5  \n",
       "Blazeguard, Reach of Eternity                128     4.00                6  \n",
       "Warmonger, Gift of Suffering's End           148     3.96                6  \n",
       "Hopeless Ebon Dualblade                      46      4.75                5  \n",
       "Extraction, Quickblade Of Trembling Hands    108     3.39                7  \n",
       "Purgatory, Gem of Regret                     8       3.91                6  \n",
       "Mercenary Sabre                              153     4.57                5  \n",
       "Ritual Mace                                  73      3.74                6  \n",
       "Celeste                                      91      3.71                6  \n",
       "Rage, Legacy of the Lone Victor              48      4.32                5  \n",
       "Dawne                                        12      4.30                5  \n",
       "Amnesia                                      22      3.57                6  \n",
       "The Oculus, Token of Lost Worlds             49      4.23                5  \n",
       "Stormcaller                                  30      4.15                5  \n",
       "Massacre                                     121     3.42                6  \n",
       "Dreamkiss                                    81      4.06                5  \n",
       "...                                                                    ...  \n",
       "Tranquility, Razor of Black Magic            149     2.47                2  \n",
       "Oathbreaker, Last Hope of the Breaking Storm 178     2.41                2  \n",
       "Warped Fetish                                24      2.41                2  \n",
       "Malice, Legacy of the Queen                  167     2.38                2  \n",
       "Renewed Skeletal Katana                      116     2.37                2  \n",
       "Nirvana                                      82      1.11                4  \n",
       "Hero Cane                                    25      1.03                4  \n",
       "Thorn, Conqueror of the Corrupted            9       2.04                2  \n",
       "Putrid Fan                                   5       1.32                3  \n",
       "Unending Tyranny                             122     1.21                3  \n",
       "Rusty Skull                                  6       1.20                3  \n",
       "Hellreaver, Heirloom of Inception            147     3.59                1  \n",
       "Orbit                                        41      1.16                3  \n",
       "Verdict                                      2       3.40                1  \n",
       "Ghastly Adamantite Protector                 136     3.30                1  \n",
       "Exiled Mithril Longsword                     126     3.25                1  \n",
       "Downfall, Scalpel Of The Emperor             109     3.20                1  \n",
       "Frenzy, Defender of the Harvest              69      1.06                3  \n",
       "Flux, Destroyer of Due Diligence             28      3.04                1  \n",
       "Blazefury, Protector of Delusions            89      1.50                2  \n",
       "Winter's Bite                                72      1.39                2  \n",
       "Sun Strike, Jaws of Twisted Visions          168     2.64                1  \n",
       "Foul Edge                                    43      2.38                1  \n",
       "Bloodlord's Fetish                           4       2.28                1  \n",
       "Yearning Crusher                             74      1.06                2  \n",
       "Exiled Doomblade                             164     1.92                1  \n",
       "Splinter                                     0       1.82                1  \n",
       "Phantomlight                                 3       1.79                1  \n",
       "Lightning, Etcher of the King                59      1.65                1  \n",
       "Soul-Forged Steel Shortsword                 156     1.16                1  \n",
       "\n",
       "[183 rows x 2 columns]"
      ]
     },
     "execution_count": 74,
     "metadata": {},
     "output_type": "execute_result"
    }
   ],
   "source": [
    "most_profitable = most_profitable.rename(columns={\\\n",
    "            'count': 'Purchase Count', 'sum': 'Total Purchase Value'})\n",
    "most_profitable"
   ]
  },
  {
   "cell_type": "code",
   "execution_count": 72,
   "metadata": {},
   "outputs": [],
   "source": [
    "#why don't Final Critic and Stormcaller show up in this group??"
   ]
  },
  {
   "cell_type": "code",
   "execution_count": null,
   "metadata": {},
   "outputs": [],
   "source": []
  }
 ],
 "metadata": {
  "kernelspec": {
   "display_name": "Python 3",
   "language": "python",
   "name": "python3"
  },
  "language_info": {
   "codemirror_mode": {
    "name": "ipython",
    "version": 3
   },
   "file_extension": ".py",
   "mimetype": "text/x-python",
   "name": "python",
   "nbconvert_exporter": "python",
   "pygments_lexer": "ipython3",
   "version": "3.6.4"
  }
 },
 "nbformat": 4,
 "nbformat_minor": 2
}
